{
  "cells": [
    {
      "metadata": {
        "collapsed": true
      },
      "cell_type": "markdown",
      "source": "# Priority Queue Implementating using Heap DS\nImplementing Priority queues using heap data structure in python\n"
    },
    {
      "metadata": {
        "trusted": true
      },
      "cell_type": "code",
      "source": "# The maximum number of items that can be stored in the Heap\nCAPACITY = 10\n\n# Heap Class\nclass Heap():\n    \n    # Constructor\n    def __init__(self):\n        # Create an array with as many slots as capacity\n        self.heap = [0] * CAPACITY\n        # We want to track the size (number of items in the heap)\n        self.heap_size = 0\n    \n    # Insertion takes O(1) running time but we have to make sure that the heap\n    # properties are not violated (takes O(logN)) because of the fixUp() method\n    # Time Complexity : O(logN)\n    def insert(self, item):\n        \n        # we are not able to insert more items than the capacity of the heap\n        if CAPACITY == self.heap_size:\n            return\n        \n        # Insert the item + increment the counter\n        self.heap[self.heap_size] = item\n        self.heap_size += 1\n        \n        # We insert the item to the last position of the array \n        # Heap properties may be violated so we have to fix it if necessary\n        self.fix_up(self.heap_size - 1)\n    \n    # We consider the last item and check whether swaps are needed or not\n    # Running time : O(logN)\n    def fix_up(self, index):\n        \n        # the parent index of the given node in the heap\n        # we store the heap in an array\n        parent_index = (index-1) // 2\n        \n        # while the index > 0 means until we consider all the items \"above\" the one we have inserted\n        # we have to swap the node with the parent if heap property is violated\n        # if it is a MAX HEAP : Largest items are in the higher layers (max item == root node)\n        if index > 0 and self.heap[index] > self.heap[parent_index]:\n            self.swap(index, parent_index)\n            self.fix_up(parent_index)\n        \n    \n    # swap two items with (index1, index2) in the array\n    def swap(self, index1, index2):\n        self.heap[index1], self.heap[index2] = self.heap[index2], self.heap[index1]\n    \n    # Max Item : root node\n    # This is the peek() method\n    # O(1) Time Complexity\n    def get_max(self):\n        return self.heap[0]\n    \n    # it returns the Maximum item + removes it from the heap\n    # O(logN)\n    def poll(self):\n        \n        max_item = self.get_max()\n        \n        self.swap(0, self.heap_size - 1)\n        self.heap_size -= 1\n        \n        self.fix_down(0)\n        \n        return max_item\n    \n    # we have a given item in the heap and we consider all the items BELOW and check\n    # whether the heap properties are violated or not\n    def fix_down(self, index):\n        # Every node has children : left child and right child\n        index_left = 2*index + 1\n        index_right = 2*index + 2\n        # Max heap so the parent is always greater than the children\n        index_largest = index\n        \n        # if the left child is greater than the parent : largest is left node\n        if index_left < self.heap_size and self.heap[index_left] > self.heap[index]:\n            index_largest = index_left\n        \n        # if the right child is greater than the parent : largest is right node\n        if index_right < self.heap_size and self.heap[index_right] > self.heap[index]:\n            index_larget = index_right\n        \n        # we do not want to swap items with themselves\n        if index != index_largest:\n            self.swap(index, index_largest)\n            self.fix_down(index_largest)\n    \n    # We have N items we want to sort them with a heap\n    # every poll() operation takens O(logN) time because of the fixDown() method that's why\n    # the overall running time complexity is O(NlogN) for heapsort\n    def heapsort(self):\n        \n        # we decrease the size of the heap in the poll() method so we have to store it\n        size = self.heap_size\n        \n        for i in range(0, size):\n            max_item = self.poll()\n            print(max_item)",
      "execution_count": 10,
      "outputs": []
    },
    {
      "metadata": {},
      "cell_type": "markdown",
      "source": "#### Testing"
    },
    {
      "metadata": {
        "trusted": true
      },
      "cell_type": "code",
      "source": "heap = Heap()\nheap.insert(10)\nheap.insert(8)\nheap.insert(12)\nheap.insert(20)\nheap.insert(-2)\nheap.heapsort()",
      "execution_count": 11,
      "outputs": [
        {
          "output_type": "stream",
          "text": "20\n12\n8\n10\n-2\n",
          "name": "stdout"
        }
      ]
    },
    {
      "metadata": {
        "trusted": true
      },
      "cell_type": "markdown",
      "source": "### Using Built-in Python library\n"
    },
    {
      "metadata": {
        "trusted": true
      },
      "cell_type": "code",
      "source": "# Using python built-in library for implementing heaps\nfrom heapq import heappop, heappush, heapify\n\n# This method makes a MIN-HEAP\n# heappop() returns in Ascending Order\n# Initialized as an empty array\nheap = []\nnums = [12,3,-2,6,4,8,9]\n\n# 1. Creating heap using heappush()\nfor num in nums:\n    heappush(heap, num)\n\nwhile heap:\n    print(heappop(heap))",
      "execution_count": 8,
      "outputs": [
        {
          "output_type": "stream",
          "text": "-2\n3\n4\n6\n8\n9\n12\n",
          "name": "stdout"
        }
      ]
    },
    {
      "metadata": {
        "trusted": true
      },
      "cell_type": "code",
      "source": "# 2. We can also created a heap with the help of heapify()\nnums = [4,119,20,12,-5,-2,3,1]\nheapify(nums)\nprint(nums)",
      "execution_count": 9,
      "outputs": [
        {
          "output_type": "stream",
          "text": "[-5, 1, -2, 4, 119, 20, 3, 12]\n",
          "name": "stdout"
        }
      ]
    },
    {
      "metadata": {
        "trusted": true
      },
      "cell_type": "code",
      "source": "",
      "execution_count": null,
      "outputs": []
    }
  ],
  "metadata": {
    "kernelspec": {
      "name": "python36",
      "display_name": "Python 3.6",
      "language": "python"
    },
    "language_info": {
      "mimetype": "text/x-python",
      "nbconvert_exporter": "python",
      "name": "python",
      "pygments_lexer": "ipython3",
      "version": "3.6.6",
      "file_extension": ".py",
      "codemirror_mode": {
        "version": 3,
        "name": "ipython"
      }
    }
  },
  "nbformat": 4,
  "nbformat_minor": 2
}