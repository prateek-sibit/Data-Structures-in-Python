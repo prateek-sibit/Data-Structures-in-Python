{
  "cells": [
    {
      "metadata": {
        "collapsed": true
      },
      "cell_type": "markdown",
      "source": "# Heap Possible Application implementation\nThis is just a basic implementation to demonstrate the practical applications of heaps"
    },
    {
      "metadata": {
        "trusted": true
      },
      "cell_type": "code",
      "source": "# Create a class for a Passenger\nfrom heapq import heappop, heappush, heapify\n\nclass Passengers():\n    \n    # We need to create a heap of the ticket prices\n    \n    # Constructor method\n    def __init__(self):\n        # List containing tuples of (passenger name, ticket_price)\n        self.passengers = []\n        self.dict_passengers = {}\n        self.price_heap = []\n    \n    def addPassenger(self, name, price):\n        \n        if price < 0:\n            return \n        \n        self.passengers.append((name, -price))\n        heappush(self.price_heap, -price)\n    \n    def dictPassengers(self):\n        \n        for passenger in self.passengers:\n            self.dict_passengers[passenger[1]] = passenger[0]\n    \n    def getPriorityPassenger(self):\n        \n        data = heappop(self.price_heap)\n        print('Priority passenger is {} with ticket price {}'.format(self.dict_passengers[data], abs(data)))   ",
      "execution_count": 4,
      "outputs": []
    },
    {
      "metadata": {
        "trusted": true
      },
      "cell_type": "code",
      "source": "passengers = Passengers()\npassengers.addPassenger('pankaj', 219)\npassengers.addPassenger('shiva', 500)\npassengers.addPassenger('prateek', 100)\npassengers.addPassenger('raj', 10)\npassengers.addPassenger('abhi', 1200)\npassengers.addPassenger('abhi', -2)\npassengers.dictPassengers()\npassengers.getPriorityPassenger()",
      "execution_count": 6,
      "outputs": [
        {
          "output_type": "stream",
          "text": "Priority passenger is abhi with ticket price 1200\n",
          "name": "stdout"
        }
      ]
    },
    {
      "metadata": {},
      "cell_type": "markdown",
      "source": "The above implementation shows us how a heap Data structure can be used to return elements with priority in **O(1) Time Complexity**. The potential application this can be in a system where it is required to treat the users on the basis of some priority level. Here we take the priority factor to be the ticket price of the Passenger"
    },
    {
      "metadata": {
        "trusted": true
      },
      "cell_type": "code",
      "source": "",
      "execution_count": null,
      "outputs": []
    }
  ],
  "metadata": {
    "kernelspec": {
      "name": "python36",
      "display_name": "Python 3.6",
      "language": "python"
    },
    "language_info": {
      "mimetype": "text/x-python",
      "nbconvert_exporter": "python",
      "name": "python",
      "pygments_lexer": "ipython3",
      "version": "3.6.6",
      "file_extension": ".py",
      "codemirror_mode": {
        "version": 3,
        "name": "ipython"
      }
    }
  },
  "nbformat": 4,
  "nbformat_minor": 2
}