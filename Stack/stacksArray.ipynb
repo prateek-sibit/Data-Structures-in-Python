{
  "cells": [
    {
      "metadata": {
        "collapsed": true
      },
      "cell_type": "markdown",
      "source": "# Stack Implementation in Python\nImplementing Stacks in python using List data type"
    },
    {
      "metadata": {
        "trusted": true
      },
      "cell_type": "markdown",
      "source": "#### Factorial Function Recursive Implementation"
    },
    {
      "metadata": {
        "trusted": true
      },
      "cell_type": "code",
      "source": "def factorial(n):\n    \n    # Define base case for Recursion\n    if n == 0:\n        # 0! = 1\n        return 1\n    else:\n        # n! = n * (n-1)!\n        return n * factorial(n-1)\n\n# Testing Function\nprint(factorial(4))\nprint(factorial(5))",
      "execution_count": 1,
      "outputs": [
        {
          "output_type": "stream",
          "text": "24\n120\n",
          "name": "stdout"
        }
      ]
    },
    {
      "metadata": {
        "trusted": true
      },
      "cell_type": "markdown",
      "source": "#### Implementation"
    },
    {
      "metadata": {
        "trusted": true
      },
      "cell_type": "code",
      "source": "class Stack():\n    \n    # Constructor method\n    def __init__(self):\n        self.stack = []\n    \n    # Method to check if stack is empty \n    def isEmpty(self):\n        return self.stack == []\n    \n    # Method to push items to the stack\n    def push(self, item):\n        self.stack.append(item)\n        \n    # Method to pop items from the stack\n    def pop2(self):\n        # Uses python .pop() method\n        return self.stack.pop()\n    \n    # Method to pop items from the stack\n    def pop(self):\n        data = self.stack[-1]\n        del self.stack[-1]\n        return data\n    \n    # Method to view the top-most stack item\n    def peek(self):\n        return self.stack[-1]\n    \n    # Method to return the size of the stack\n    def size(self):\n        return len(self.stack)\n    \n    # Method to view the stack\n    def view(self):\n        print(self.stack)",
      "execution_count": 5,
      "outputs": []
    },
    {
      "metadata": {},
      "cell_type": "markdown",
      "source": "#### Testing"
    },
    {
      "metadata": {
        "trusted": true
      },
      "cell_type": "code",
      "source": "stack = Stack()\nstack.push(4)\nstack.push(2)\nstack.push(1)\nstack.push(20)\nstack.view()\nprint('Popped : ', stack.pop())\nstack.view()\nprint('Peek : ', stack.peek())\nprint('Size : ', stack.size())",
      "execution_count": 11,
      "outputs": [
        {
          "output_type": "stream",
          "text": "[4, 2, 1, 20]\nPopped :  20\n[4, 2, 1]\nPeek :  1\nSize :  3\n",
          "name": "stdout"
        }
      ]
    },
    {
      "metadata": {
        "trusted": true
      },
      "cell_type": "code",
      "source": "",
      "execution_count": null,
      "outputs": []
    }
  ],
  "metadata": {
    "kernelspec": {
      "name": "python36",
      "display_name": "Python 3.6",
      "language": "python"
    },
    "language_info": {
      "mimetype": "text/x-python",
      "nbconvert_exporter": "python",
      "name": "python",
      "pygments_lexer": "ipython3",
      "version": "3.6.6",
      "file_extension": ".py",
      "codemirror_mode": {
        "version": 3,
        "name": "ipython"
      }
    }
  },
  "nbformat": 4,
  "nbformat_minor": 2
}