{
  "cells": [
    {
      "metadata": {
        "collapsed": true
      },
      "cell_type": "markdown",
      "source": "# Max in a stack problem\n\nThe aim is to design an algorithm that can return the maximum item of a stack in O(1) running time complexity. We can use O(N) extra memory!\n\nHint: we can use another stack to track the max item\n\nAlgorithm : \n1. Create an extra stack maxStack to keep track of max items\n2. If item pushed to stack < maxStack.peek() simply push\n3. If item pushed to stack > maxStack.peek() -> maxStack.pop(), maxStack.push(item)"
    },
    {
      "metadata": {
        "trusted": true
      },
      "cell_type": "code",
      "source": "# Stack Class Implementation\n# LIFO -> Last In First Out structure\nclass Stack():\n    \n    def __init__(self):\n        self.stack = []\n        self.size = 0\n        self.maxStack = [0]\n    \n    def push(self, data):\n        \n        if self.size == 0:\n            self.maxStack[0] = data\n         \n        self.size += 1\n        print('Push {} to stack'.format(data))\n        self.stack.append(data)\n        \n        # Algorithm to add max to max stack\n        if self.maxStack[0] < self.peek():\n            self.maxStack[0] = self.peek()\n    \n    def peek(self):\n        # Returns the top-most item in the stack\n        return self.stack[-1]\n    \n    def pop(self):\n        data = self.stack[-1]\n        del self.stack[-1]\n        print('Popped {}'.format(data))\n    \n    def view(self):\n        return self.stack\n    \n    def getMax(self):\n        return self.maxStack[0]",
      "execution_count": 16,
      "outputs": []
    },
    {
      "metadata": {
        "trusted": true
      },
      "cell_type": "code",
      "source": "s = Stack()\ns.push(5)\ns.push(51)\ns.push(510)\ns.push(0)\ns.push(32)\ns.push(17)\ns.pop()\nprint(s.view())\nprint('Max Item in stack : ', s.getMax())",
      "execution_count": 20,
      "outputs": [
        {
          "output_type": "stream",
          "text": "Push 5 to stack\nPush 51 to stack\nPush 510 to stack\nPush 0 to stack\nPush 32 to stack\nPush 17 to stack\nPopped 17\n[5, 51, 510, 0, 32]\nMax Item in stack :  510\n",
          "name": "stdout"
        }
      ]
    },
    {
      "metadata": {
        "trusted": true
      },
      "cell_type": "code",
      "source": "",
      "execution_count": null,
      "outputs": []
    }
  ],
  "metadata": {
    "kernelspec": {
      "name": "python36",
      "display_name": "Python 3.6",
      "language": "python"
    },
    "language_info": {
      "mimetype": "text/x-python",
      "nbconvert_exporter": "python",
      "name": "python",
      "pygments_lexer": "ipython3",
      "version": "3.6.6",
      "file_extension": ".py",
      "codemirror_mode": {
        "version": 3,
        "name": "ipython"
      }
    }
  },
  "nbformat": 4,
  "nbformat_minor": 2
}