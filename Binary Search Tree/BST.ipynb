{
  "cells": [
    {
      "metadata": {
        "collapsed": true
      },
      "cell_type": "markdown",
      "source": "# Binary Search Tree Implementation\nImplementing BST in python using Node structure"
    },
    {
      "metadata": {
        "trusted": true
      },
      "cell_type": "code",
      "source": "# Node Class To represent the Vertices/Nodes in the Tree\nclass Node():\n    \n    # Constructor \n    def __init__(self, data):\n        self.data = data\n        self.leftChild = None\n        self.rightChild = None",
      "execution_count": 2,
      "outputs": []
    },
    {
      "metadata": {
        "trusted": true
      },
      "cell_type": "code",
      "source": "# Implementing BST Class\nclass BinarySearchTree():\n    \n    # Constructor\n    def __init__(self):\n        self.root = None\n    \n    # Insert method to insert items\n    def insert(self, data):\n        \n        if self.root is None:\n            self.root = Node(data)\n        else:\n            self.insertNode(data, self.root)\n    \n    # Method to insert data Node\n    # O(logN) Time complexity : If the tree is balanced\n    # O(N) : If the tree is not balanced\n    def insertNode(self, data, node):\n        \n        if data < node.data:\n            # Insert to the left subtree\n            if node.leftChild is not None:\n                # Recursive call\n                self.insertNode(data, node.leftChild)\n            else:\n                node.leftChild = Node(data)\n        elif data > node.data:\n            # Insert to the right subtree\n            if node.rightChild is not None:\n                # Recursive call\n                self.insertNode(data, node.rightChild)\n            else:\n                node.rightChild = Node(data)\n    \n    \n    # Remove method to remove node\n    # Helper method\n    def remove(self, data):\n        if self.root is not None:\n            self.removeNode(data, self.root)\n    \n    # Method to remove node with given data\n    def removeNode(self, data, node):\n        \n        if node is None:\n            return node\n        \n        if data < node.data:\n            # Item we're looking for is in the left subtree\n            node.leftChild = self.removeNode(data, node.leftChild)\n        elif data > node.data:\n            # Item we're looking for is in the right subtree\n            node.rightChild = self.removeNode(data, node.rightChild)\n        else:\n            # Node we're at is the node to be removed\n            # 3 Cases\n            if node.leftChild is None and node.rightChild is None:\n                # Leaf node\n                print('Removing leaf node')\n                del node\n                return None\n            if node.leftChild is None and node.rightChild is not None:\n                # Single right child\n                print('Removing node with single right child')\n                tempNode = node.rightChild\n                del node\n                return tempNode\n            elif node.leftChild is not None and node.rightChild is None:\n                # Single left child\n                print('Removing node with single left child')\n                tempNode = node.leftChild\n                del node\n                return tempNode\n            \n            print('Removing node with two children')\n            tempNode = self.getPredecessor(node.leftChild)\n            node.data = tempNode.data\n            node.leftChild = self.removeNode(tempNode.data, node.leftChild)\n    \n    def getPredecessor(self, node):\n        \n        if node.rightChild:\n            return getPredecessor(node.rightChild)\n        \n        return node\n                \n            \n                \n    # Method to get the minimum value of tree\n    def getMinValue(self):\n        \n        if self.root is not None:\n            return self.getMin(self.root)\n    \n    # Main function to traverse and get the min value\n    def getMin(self, node):\n        \n        if node.leftChild is None:\n            return node.data\n        else:\n            return self.getMin(node.leftChild)\n    \n    # Method to get the maximum value of tree\n    def getMaxValue(self):\n        \n        if self.root is not None:\n            return self.getMax(self.root)\n    \n    # Main funcion to traverse and get the max value\n    def getMax(self, node):\n        \n        if node.rightChild is None:\n            return node.data\n        else:\n            return self.getMax(node.rightChild)\n    \n    # Traversing the tree\n    def traverse(self):\n        \n        if self.root is not None:\n            self.traverseInOrder(self.root)\n    \n    # In-order traversal \n    def traverseInOrder(self, node):\n        \n        # In-order : Left, Root, Right\n        if node.leftChild is not None:\n            self.traverseInOrder(node.leftChild)\n            \n        print(node.data)\n        \n        if node.rightChild is not None:\n            self.traverseInOrder(node.rightChild)",
      "execution_count": 3,
      "outputs": []
    },
    {
      "metadata": {},
      "cell_type": "markdown",
      "source": "#### Testing Insertion"
    },
    {
      "metadata": {
        "trusted": true
      },
      "cell_type": "code",
      "source": "bst = BinarySearchTree()\nbst.insert(5)\nbst.insert(52)\nbst.insert(20)\nbst.insert(1)\nbst.insert(2)\nbst.traverse()\nprint('Minimum : ', bst.getMinValue())\nprint('Maximum : ', bst.getMaxValue())",
      "execution_count": 4,
      "outputs": [
        {
          "output_type": "stream",
          "text": "1\n2\n5\n20\n52\nMinimum :  1\nMaximum :  52\n",
          "name": "stdout"
        }
      ]
    },
    {
      "metadata": {},
      "cell_type": "markdown",
      "source": "#### Understanding Nested function return calls"
    },
    {
      "metadata": {
        "trusted": true
      },
      "cell_type": "code",
      "source": "# Example of nesting function returns \n# This concept is used in the BinarySearchTree() Class\ndef a():\n    b()\n\ndef c():\n    return b()\n\ndef b():\n    return 5\n\nprint(a())\nprint(c())",
      "execution_count": 18,
      "outputs": [
        {
          "output_type": "stream",
          "text": "None\n5\n",
          "name": "stdout"
        }
      ]
    },
    {
      "metadata": {
        "trusted": true
      },
      "cell_type": "markdown",
      "source": "#### Alernate BST Implementation using Parent Nodes\n"
    },
    {
      "metadata": {
        "trusted": true
      },
      "cell_type": "code",
      "source": "# Node Class To represent the Vertices/Nodes in the Tree\nclass Node():\n    \n    # Constructor \n    def __init__(self, data):\n        self.data = data\n        self.leftChild = None\n        self.rightChild = None\n        # Introducing new parameter \"parent\"\n        self.parent = None\n    \n    # Method to set parent\n    def setParent(self, node):\n        # Sets the parent of passed node to \"node\"\n        self.parent = node",
      "execution_count": 17,
      "outputs": []
    },
    {
      "metadata": {
        "trusted": true
      },
      "cell_type": "code",
      "source": "# Implementing BST Class\nclass BinarySearchTree2():\n    \n    # Constructor\n    def __init__(self):\n        self.root = None\n    \n    # Insert method to insert items\n    def insert(self, data):\n        \n        if self.root is None:\n            self.root = Node(data)\n            self.root.setParent(None)\n        else:\n            self.insertNode(data, self.root)\n    \n    # Method to insert data Node\n    # O(logN) Time complexity : If the tree is balanced\n    # O(N) : If the tree is not balanced\n    def insertNode(self, data, node):\n        \n        if data < node.data:\n            # Insert to the left subtree\n            if node.leftChild is not None:\n                # Recursive call\n                self.insertNode(data, node.leftChild)\n            else:\n                node.leftChild = Node(data)\n                node.leftChild.setParent(node)\n        elif data > node.data:\n            # Insert to the right subtree\n            if node.rightChild is not None:\n                # Recursive call\n                self.insertNode(data, node.rightChild)\n            else:\n                node.rightChild = Node(data)\n                node.rightChild.setParent(node)\n    \n    \n    # Remove method to remove node\n    # Helper method\n    def remove(self, data):\n        if self.root is not None:\n            self.removeNode(data, self.root)\n    \n    # Method to remove node with given data\n    def removeNode(self, data, node):\n        # First find the data\n        if data < node.data:\n            # Search to the left subtree\n            self.removeNode(data, node.leftChild)\n        elif data > node.data:\n            # Search to the right subtree\n            self.removeNode(data, node.rightChild)\n        else:\n            # node.data == data : node to delete has been found\n            # 3 Cases\n            \n            # 1. node is leaf node\n            if node.leftChild is None and node.rightChild is None:\n                print('Removing leaf node!')\n                if node.parent.leftChild.data == node.data:\n                    # node is a leftChild\n                    node.parent.leftChild = None\n                    del node\n                elif node.parent.rightChild.data == node.dat:\n                    # node is a rightChild\n                    node.parent.rightChild = None\n                    del node\n            # 2. node has single child\n            elif node.leftChild is None and node.rightChild is not None:\n                # node to remove has a single rightChild\n                # set parent.rightChild as node.rightChild\n                print('Removing node with single right child')\n                node.parent.rightChild = node.rightChild\n                del node\n            elif node.leftChild is not None and node.rightChild is None:\n                # node to remove has a single leftChild\n                # set parent.leftChild as node.leftChild\n                print('Removing node with single left child')\n                node.parent.leftChild = node.leftChild\n                del node\n            # 3. node has two children\n            elif node.leftChild and node.rightChild:\n                print('Removing node with 2 children')\n                # find out if node is left child or right child\n                if node.parent.leftChild is not None and node.parent.leftChild.data == node.data:\n                    # node is left child\n                    tempNode = self.getMaxNode(node.leftChild)\n                    node.parent.leftchild = tempNode\n                    del tempNode\n                elif node.parent.rightChild is not None and node.parent.rightChild.data == node.data:\n                    # node is right child\n                    tempNode = self.getMaxNode(node.leftChild)\n                    node.parent.rightChild = tempNode\n                    del tempNode\n    \n    def getMaxNode(self, node):\n        # Function to return reference to the max node taking node as root\n        if node.rightChild is None:\n            return node\n        else:\n            return self.getMaxNode(node.rightChild)\n        \n    def getMinNode(self, node):\n        # Function to return reference to the min node taking node as root\n        if node.leftChild is None:\n            return node\n        else:\n            return self.getMaxNode(node.leftChild)\n                \n    # Method to get the minimum value of tree\n    def getMinValue(self):\n        \n        if self.root is not None:\n            return self.getMin(self.root)\n    \n    # Main function to traverse and get the min value\n    def getMin(self, node):\n        \n        if node.leftChild is None:\n            return node.data\n        else:\n            return self.getMin(node.leftChild)\n    \n    # Method to get the maximum value of tree\n    def getMaxValue(self):\n        \n        if self.root is not None:\n            return self.getMax(self.root)\n    \n    # Main funcion to traverse and get the max value\n    def getMax(self, node):\n        \n        if node.rightChild is None:\n            return node.data\n        else:\n            return self.getMax(node.rightChild)\n    \n    # Traversing the tree\n    def traverse(self):\n        \n        if self.root is not None:\n            self.traverseInOrder(self.root)\n    \n    # In-order traversal \n    def traverseInOrder(self, node):\n        \n        # In-order : Left, Root, Right\n        if node.leftChild is not None:\n            self.traverseInOrder(node.leftChild)\n            \n        print(node.data)\n        \n        if node.rightChild is not None:\n            self.traverseInOrder(node.rightChild)\n    \n    # Helper method to search for given data \n    def search(self, data):\n        \n        if self.root is not None:\n            return self.searchData(data, self.root)\n    \n    # Actual method to search for node with given data\n    def searchData(self, data, node):\n        \n        if node.data == data:\n            # Found item!\n            print('Found {}'.format(data))\n        elif data < node.data:\n            # Search in left subtree\n            self.searchNode(data, node.leftChild)\n        elif data > data.data:\n            # Search in right subtree\n            self.searchNode(data, node.rightChild)\n            ",
      "execution_count": 61,
      "outputs": []
    },
    {
      "metadata": {},
      "cell_type": "markdown",
      "source": "#### Testing Deletion"
    },
    {
      "metadata": {
        "trusted": true
      },
      "cell_type": "code",
      "source": "bst = BinarySearchTree2()\nbst.insert(5)\nbst.insert(4)\nbst.insert(10)\nbst.insert(7)\nbst.insert(25)\nbst.insert(1)\nbst.traverse()",
      "execution_count": 30,
      "outputs": [
        {
          "output_type": "stream",
          "text": "1\n4\n5\n7\n10\n25\n",
          "name": "stdout"
        }
      ]
    },
    {
      "metadata": {
        "trusted": true
      },
      "cell_type": "code",
      "source": "bst.remove(4)\nbst.traverse()\nbst.remove(10)\nbst.traverse()",
      "execution_count": 31,
      "outputs": [
        {
          "output_type": "stream",
          "text": "Removing node with single left child\n1\n5\n7\n10\n25\nRemoving node with 2 children\n1\n5\n7\n",
          "name": "stdout"
        }
      ]
    },
    {
      "metadata": {
        "trusted": true
      },
      "cell_type": "code",
      "source": "import numpy as np\nimport time\n\n\nbst = BinarySearchTree2()\ninput_num = list(np.random.randint(low=0, high=500, size=(1, 300)))\nfor num in input_num:\n    bst.insert(num)\nbst.traverse()",
      "execution_count": 62,
      "outputs": [
        {
          "output_type": "stream",
          "text": "[352 234 120 250 247 199 299 116 250 267 343 490 256 309  88 188 244 254\n 285 428 140 232 409 287 211 122 278 419  91 292 454  74 483 150 187 263\n  13 124 480 394 266  87 129 466 231  65 273  85  35  83 445 392  48  42\n  50 476 496 102 392 202 480 120 432 183 292 147 475 364 426 251  50 136\n 312 486 126 177  50 127 421 454 188 427 118 345  77 128 234 137 346 358\n 192 416 388  70 243  43 109 491 254  88  56 252 495 261 407  41 388 296\n 372 362  96 153 489 126 366 121 393 485 386 305  63 467  44 439 327 314\n 378 419 151 168 122 128  52 286  72 434 240 235 129 328 123 391 414 381\n 457 425 468 246 125   4 469 374 483 164 320 262 254  23 335 149 248 112\n 468 390 430 362  46 102 239 114 417 290 342 491 381 288 428  27  32  42\n 367 229 389 434  25 327  33 421 387 146 436 209 301  35 336 121  37 424\n 141 320 385  74 160 268 300 238  45 220 116  13 125   0 475  57 224  46\n 147 449 342 433  71 497  75 190 485 466 401 249 419 409 356 424 355 214\n  37 193  81 448 199 251  30 252 403 451  50 194 425  58 275 129 201  26\n  89 271  45  20 429  27 305 325  22 123 441  95  42 245 225 228 245 142\n 106 480 139 482 165 141 149  86  50 347 142 362 181 376 439  30 192 218\n 448 134 418 102   4 490 201 451 488 389 323 336]\n",
          "name": "stdout"
        }
      ]
    }
  ],
  "metadata": {
    "kernelspec": {
      "name": "python36",
      "display_name": "Python 3.6",
      "language": "python"
    },
    "language_info": {
      "mimetype": "text/x-python",
      "nbconvert_exporter": "python",
      "name": "python",
      "pygments_lexer": "ipython3",
      "version": "3.6.6",
      "file_extension": ".py",
      "codemirror_mode": {
        "version": 3,
        "name": "ipython"
      }
    }
  },
  "nbformat": 4,
  "nbformat_minor": 2
}