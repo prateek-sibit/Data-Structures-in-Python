{
  "cells": [
    {
      "metadata": {
        "collapsed": true
      },
      "cell_type": "markdown",
      "source": "# Duplicates in an array\nThe problem is that we want to find duplicates in a one-dimensional array of integers in O(N) running time where the integer values are smaller than the length of the array!\n"
    },
    {
      "metadata": {},
      "cell_type": "markdown",
      "source": "**Dictionary Approach**\n1. Create dictionary of (value, count) pairs\n2. For values where count = 1 return an array of values\n"
    },
    {
      "metadata": {
        "trusted": true
      },
      "cell_type": "code",
      "source": "def duplicates_dict(A):\n    '''\n    1. Create dictionary of (value, count) pairs\n    2. Return array of values where key(count) = 1\n    '''\n    num_dict = {}\n    duplicates = []\n    for values in A:\n        num_dict[values] = 0\n    for values in A:\n        num_dict[values] += 1\n    for i in num_dict.values():\n        if num_dict[i] > 1:\n            duplicates.append(i)\n            \n    return duplicates",
      "execution_count": 16,
      "outputs": []
    },
    {
      "metadata": {
        "trusted": true
      },
      "cell_type": "code",
      "source": "print(duplicates_dict([1,2,2,2,3,3,0]))",
      "execution_count": 17,
      "outputs": [
        {
          "output_type": "stream",
          "text": "(0, 1)\n(1, 2)\n(2, 3)\n(3, 0)\n[]\n",
          "name": "stdout"
        }
      ]
    },
    {
      "metadata": {
        "trusted": true
      },
      "cell_type": "code",
      "source": "",
      "execution_count": null,
      "outputs": []
    }
  ],
  "metadata": {
    "kernelspec": {
      "name": "python36",
      "display_name": "Python 3.6",
      "language": "python"
    },
    "language_info": {
      "mimetype": "text/x-python",
      "nbconvert_exporter": "python",
      "name": "python",
      "pygments_lexer": "ipython3",
      "version": "3.6.6",
      "file_extension": ".py",
      "codemirror_mode": {
        "version": 3,
        "name": "ipython"
      }
    }
  },
  "nbformat": 4,
  "nbformat_minor": 2
}