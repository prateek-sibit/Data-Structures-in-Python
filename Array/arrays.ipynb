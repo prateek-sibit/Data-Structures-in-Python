{
  "cells": [
    {
      "metadata": {
        "collapsed": true
      },
      "cell_type": "markdown",
      "source": "# Array Implementation\nImplemented Using Lists in python\nLists in Python are heterogenous data structures (which means they can store data of different types)"
    },
    {
      "metadata": {
        "trusted": true
      },
      "cell_type": "code",
      "source": "# Example\n# Indices start from 0..n-1 where n:number of elements in the array\nnumbers = [1,2,3,4,5]\n# Random Indexing -> Able to get items if we know the index\n# getItem() -> O(1) Complexity\nprint('First : ', numbers[0])\nprint('Second : ', numbers[1])\n\n# New Value assignment\nnumbers[1] = 200\nprint(numbers)\n\n# Demonstrating heterogenity\nnumbers[3] = 'Adam'\nprint(numbers)",
      "execution_count": 5,
      "outputs": [
        {
          "output_type": "stream",
          "text": "First :  1\nSecond :  2\n[1, 200, 3, 4, 5]\n[1, 200, 3, 'Adam', 5]\n",
          "name": "stdout"
        }
      ]
    },
    {
      "metadata": {
        "trusted": true
      },
      "cell_type": "code",
      "source": "# Iterating through the array\nfor num in numbers:\n    print(num)",
      "execution_count": 6,
      "outputs": [
        {
          "output_type": "stream",
          "text": "1\n200\n3\nAdam\n5\n",
          "name": "stdout"
        }
      ]
    },
    {
      "metadata": {
        "trusted": true
      },
      "cell_type": "code",
      "source": "# Assigning floating point number to an index\nnumbers[4] = 40.5\nprint(numbers)",
      "execution_count": 7,
      "outputs": [
        {
          "output_type": "stream",
          "text": "[1, 200, 3, 'Adam', 40.5]\n",
          "name": "stdout"
        }
      ]
    },
    {
      "metadata": {
        "trusted": true
      },
      "cell_type": "code",
      "source": "# Iterating using index\nfor i in range(len(numbers)):\n    print(numbers[i])",
      "execution_count": 8,
      "outputs": [
        {
          "output_type": "stream",
          "text": "1\n200\n3\nAdam\n40.5\n",
          "name": "stdout"
        }
      ]
    },
    {
      "metadata": {
        "trusted": true
      },
      "cell_type": "code",
      "source": "# Slicing Notation for Lists in python\nprint(numbers[0:2])",
      "execution_count": 9,
      "outputs": [
        {
          "output_type": "stream",
          "text": "[1, 200]\n",
          "name": "stdout"
        }
      ]
    },
    {
      "metadata": {
        "trusted": true
      },
      "cell_type": "code",
      "source": "print(numbers[:])",
      "execution_count": 10,
      "outputs": [
        {
          "output_type": "stream",
          "text": "[1, 200, 3, 'Adam', 40.5]\n",
          "name": "stdout"
        }
      ]
    },
    {
      "metadata": {
        "trusted": true
      },
      "cell_type": "code",
      "source": "# Printing all except the last item\nprint(numbers[:-1])",
      "execution_count": 11,
      "outputs": [
        {
          "output_type": "stream",
          "text": "[1, 200, 3, 'Adam']\n",
          "name": "stdout"
        }
      ]
    },
    {
      "metadata": {
        "trusted": true
      },
      "cell_type": "code",
      "source": "# Algorithm to find the maximum in an array\n# O(N) Search complexity\nnumbers = [10,125,55,24,82,81,92]\nmaximum = numbers[0]\nfor i in range(len(numbers)):\n    if numbers[i] > maximum:\n        maximum = numbers[i]\nprint(maximum)",
      "execution_count": 13,
      "outputs": [
        {
          "output_type": "stream",
          "text": "125\n",
          "name": "stdout"
        }
      ]
    },
    {
      "metadata": {
        "trusted": true
      },
      "cell_type": "code",
      "source": "# A Better algorithm to find the maximum \n'''\n1. Sort array : Worst case for best algorithm O(Nlog(N))\n2. Return last most element with array index : O(1)\n3. Total Time complexity = O(NlogN) + O(1) = O(NlogN)\n'''\nimport numpy as np\n\narr = 10 * np.random.randn(10000)\narr = sorted(arr)\nprint(arr[:10])\nprint('Maximum : ', arr[len(arr) - 1])",
      "execution_count": 31,
      "outputs": [
        {
          "output_type": "stream",
          "text": "[-35.0187669900144, -33.11501492443502, -32.782196578772876, -32.11943300854586, -31.203236445788015, -30.638820711459744, -30.481032014830948, -29.819804063070897, -29.624154814579033, -29.55654621127774]\nMaximum :  40.35019585437653\n",
          "name": "stdout"
        }
      ]
    },
    {
      "metadata": {
        "trusted": true
      },
      "cell_type": "code",
      "source": "",
      "execution_count": null,
      "outputs": []
    }
  ],
  "metadata": {
    "kernelspec": {
      "name": "python36",
      "display_name": "Python 3.6",
      "language": "python"
    },
    "language_info": {
      "mimetype": "text/x-python",
      "nbconvert_exporter": "python",
      "name": "python",
      "pygments_lexer": "ipython3",
      "version": "3.6.6",
      "file_extension": ".py",
      "codemirror_mode": {
        "version": 3,
        "name": "ipython"
      }
    }
  },
  "nbformat": 4,
  "nbformat_minor": 2
}