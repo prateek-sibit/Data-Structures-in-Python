{
  "cells": [
    {
      "metadata": {
        "collapsed": true
      },
      "cell_type": "markdown",
      "source": "# Integer Reversion Problem\nOur task is to design an efficient algorithm to reverse a given integer. For example if the input of the algorithm is 1234 then the output should be 4321.\nWe will explore different approaches to tackle this problem"
    },
    {
      "metadata": {},
      "cell_type": "markdown",
      "source": "Approach 1 :\n1. set Reverse = 0\n2. Set tn = input number\n3. while tn > 0 do\n   Reverse = Reverse * 10 + tn % 10\n   tn = tn / 10\n4. Reverse is now the number reversed"
    },
    {
      "metadata": {
        "trusted": true
      },
      "cell_type": "code",
      "source": "def reverseInt1(number):\n    rev = 0\n    tn = number\n    while(tn>0):\n        rev = rev * 10 + tn % 10\n        tn = tn//10\n    return rev",
      "execution_count": 1,
      "outputs": []
    },
    {
      "metadata": {
        "trusted": true
      },
      "cell_type": "code",
      "source": "print(reverseInt1(32))\nprint(reverseInt1(121))\nprint(reverseInt1(521))",
      "execution_count": 4,
      "outputs": [
        {
          "output_type": "stream",
          "text": "23\n121\n125\n",
          "name": "stdout"
        }
      ]
    },
    {
      "metadata": {},
      "cell_type": "markdown",
      "source": "Approach 2 **(works for python)** :\n1. Take input number\n2. convert to string\n3. reverse string\n4. return int(output string)\n"
    },
    {
      "metadata": {
        "trusted": true
      },
      "cell_type": "code",
      "source": "def reverse(number):\n    '''\n    Input : T array of values \n    Output : T array reversed\n    O(N/2) Time complexity\n    '''\n    number = list(str(number))\n    n = len(number)\n    for i in range(0, len(number)//2):\n        # Loop runs in the range [0, n-1] // 2 \n        # Swap T[i], T[n-i-1]\n        number[i], number[n-i-1] = number[n-i-1], number[i]\n    return int(''.join(number))",
      "execution_count": 8,
      "outputs": []
    },
    {
      "metadata": {
        "trusted": true
      },
      "cell_type": "code",
      "source": "print(reverse(124))\nprint(reverse(521))",
      "execution_count": 10,
      "outputs": [
        {
          "output_type": "stream",
          "text": "421\n125\n",
          "name": "stdout"
        }
      ]
    },
    {
      "metadata": {
        "trusted": true
      },
      "cell_type": "code",
      "source": "",
      "execution_count": null,
      "outputs": []
    }
  ],
  "metadata": {
    "kernelspec": {
      "name": "python36",
      "display_name": "Python 3.6",
      "language": "python"
    },
    "language_info": {
      "mimetype": "text/x-python",
      "nbconvert_exporter": "python",
      "name": "python",
      "pygments_lexer": "ipython3",
      "version": "3.6.6",
      "file_extension": ".py",
      "codemirror_mode": {
        "version": 3,
        "name": "ipython"
      }
    }
  },
  "nbformat": 4,
  "nbformat_minor": 2
}