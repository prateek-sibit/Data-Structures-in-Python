{
  "cells": [
    {
      "metadata": {
        "collapsed": true
      },
      "cell_type": "markdown",
      "source": "# Depth First Search Implementation\nDFS Implementation in Python. DFS is a Graph Traversal algorithm used to traverse all nodes in a give graph"
    },
    {
      "metadata": {
        "trusted": true
      },
      "cell_type": "code",
      "source": "# Node Class to represent verticies in the graph\nclass Node():\n    # Constructor method\n    def __init__(self, name):\n        self.name = name\n        self.adjacencyList = []\n        self.predecessor = None\n        self.visited = False",
      "execution_count": 1,
      "outputs": []
    },
    {
      "metadata": {
        "trusted": true
      },
      "cell_type": "code",
      "source": "# Creating DepthFirstSearch Class to call the DFS method\n# DFS Makes use of Stack \nclass DepthFirstSearch():\n    \n    # Iterative Approach\n    def dfs(self, startVertex):\n        '''\n        Input : startVertex (Initial Vertex) for the traversal\n        Output : DFS Traversal with start as startVertex\n        '''\n        stack = []\n        traversal = []\n        startVertex.visited = True # set startVertex[visited] = True\n        stack.append(startVertex) # append the startVertex to the stack\n        # While stack is not empty\n        while stack:\n            # Pop element from stack -> LIFO Data structure\n            actualNode = stack.pop()\n            traversal.append(actualNode.name)\n            # Traverse all neighbours of popped node\n            for neighbour in actualNode.adjacencyList:\n                if neighbour.visited == False:\n                    neighbour.visited = True\n                    stack.append(neighbour)\n            \n        return traversal        \n    \n    # Recursive approach\n    def dfs2(self, startVertex):\n        '''\n        Input : startVertex (Initial Vertex) for the traversal\n        Output : DFS Traversal with start as startVertex\n        '''\n        # set startVertex[visited] = True\n        startVertex.visited = True\n        # Print data\n        print(startVertex.name)\n        # For all neighbours of vertext -> call dfs2 recursively\n        for neighbour in startVertex.adjacencyList:\n            if neighbour.visited == False: \n                self.dfs2(neighbour)        ",
      "execution_count": 15,
      "outputs": []
    },
    {
      "metadata": {},
      "cell_type": "markdown",
      "source": "### Testing"
    },
    {
      "metadata": {
        "trusted": true
      },
      "cell_type": "code",
      "source": "node1 = Node('A')\nnode2 = Node('B')\nnode3 = Node('C')\nnode4 = Node('D')\nnode5 = Node('E')\nnode6 = Node('F')\n\nnode1.adjacencyList.append(node2)\nnode1.adjacencyList.append(node3)\nnode2.adjacencyList.append(node4)\nnode4.adjacencyList.append(node5)\nnode3.adjacencyList.append(node6)\n\ndfs = DepthFirstSearch()\ndfs.dfs(node1)",
      "execution_count": 17,
      "outputs": [
        {
          "output_type": "execute_result",
          "execution_count": 17,
          "data": {
            "text/plain": "['A', 'C', 'F', 'B', 'D', 'E']"
          },
          "metadata": {}
        }
      ]
    },
    {
      "metadata": {
        "trusted": true
      },
      "cell_type": "code",
      "source": "# Testing Recursive Method\nnode1 = Node('A')\nnode2 = Node('B')\nnode3 = Node('C')\nnode4 = Node('D')\nnode5 = Node('E')\nnode6 = Node('F')\n\nnode1.adjacencyList.append(node2)\nnode1.adjacencyList.append(node3)\nnode2.adjacencyList.append(node4)\nnode4.adjacencyList.append(node5)\nnode3.adjacencyList.append(node6)\n\ndfs2 = DepthFirstSearch()\ndfs2.dfs2(node1)",
      "execution_count": 19,
      "outputs": [
        {
          "output_type": "stream",
          "text": "A\nB\nD\nE\nC\nF\n",
          "name": "stdout"
        }
      ]
    },
    {
      "metadata": {
        "trusted": true
      },
      "cell_type": "code",
      "source": "",
      "execution_count": null,
      "outputs": []
    }
  ],
  "metadata": {
    "kernelspec": {
      "name": "python36",
      "display_name": "Python 3.6",
      "language": "python"
    },
    "language_info": {
      "mimetype": "text/x-python",
      "nbconvert_exporter": "python",
      "name": "python",
      "pygments_lexer": "ipython3",
      "version": "3.6.6",
      "file_extension": ".py",
      "codemirror_mode": {
        "version": 3,
        "name": "ipython"
      }
    }
  },
  "nbformat": 4,
  "nbformat_minor": 2
}