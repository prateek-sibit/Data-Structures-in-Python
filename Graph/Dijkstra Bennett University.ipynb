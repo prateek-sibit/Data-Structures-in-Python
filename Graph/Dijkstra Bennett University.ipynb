{
  "cells": [
    {
      "metadata": {
        "collapsed": true
      },
      "cell_type": "markdown",
      "source": "# Djikstras Shortest Path applied to Bennett University Campus\nImplementing Djikstras shortest path algorithm to Bennett University  Campus"
    },
    {
      "metadata": {
        "trusted": true
      },
      "cell_type": "code",
      "source": "# Importing Libraries to use\nimport sys # To set initialize distances of nodes to maximum permissible size\nimport heapq # To construct, conduct heap operations",
      "execution_count": 1,
      "outputs": []
    },
    {
      "metadata": {},
      "cell_type": "markdown",
      "source": "### Node Class"
    },
    {
      "metadata": {
        "trusted": true
      },
      "cell_type": "code",
      "source": "class Node():\n    # Constructor\n    def __init__(self, name):\n        self.name = name # initializing name of the node\n        self.adjacencyList = [] # List of all immediate neighbours\n        self.visited = False # Checing if node has been visited\n        self.predecessor = None # To backtrack shortest path\n        self.minDistance = sys.maxsize # set mininumum distance to a node be the maximum possible size\n    \n    # Define a comparator scheme to enable pushing to a min-heap\n    def __lt__(self, otherVertex):\n        return self.minDistance < otherVertex.minDistance",
      "execution_count": 9,
      "outputs": []
    },
    {
      "metadata": {},
      "cell_type": "markdown",
      "source": "### Edge Class\n"
    },
    {
      "metadata": {
        "trusted": true
      },
      "cell_type": "code",
      "source": "class Edge():\n    # Constructor\n    def __init__(self, weight, startVertex, targetVertex):\n        self.weight = weight\n        self.startVertex = startVertex \n        self.targetVertex = targetVertex",
      "execution_count": 10,
      "outputs": []
    },
    {
      "metadata": {},
      "cell_type": "markdown",
      "source": "### Algorthim Class\n"
    },
    {
      "metadata": {
        "trusted": true
      },
      "cell_type": "code",
      "source": "class Algorithm():\n    \n    # Method to calculate shortest path\n    def calculateShortestPath(self, startVertex, vertexList):\n        '''\n        Input : startVertex, vertex from which to start the shortest path calculation\n        Output : Predecessor, minDistances for nodes are updated accordingly\n        '''     \n        q = [] # Initialize heap\n        startVertex.minDistance = 0 # set the minimum distance to startnode as 0\n        startVertex.visited = True # Set startVertex as visited\n        heapq.heappush(q, startVertex) # push vertex to heap\n        \n        while q: # while queue is not empty\n            # Pop node from heap\n            actualNode = heapq.heappop(q)\n            # Our node.adjacencyList comprises of neighbouring edges of a node\n            for edge in actualNode.adjacencyList:\n                u = edge.startVertex # startvertex of edge\n                v = edge.targetVertex # endvertex of edge\n                newDistance = u.minDistance + edge.weight # compute the distance to node 'v' via node 'u'\n                if newDistance < v.minDistance:\n                    v.predecessor = u\n                    v.minDistance = newDistance\n                    heapq.heappush(q, v)\n    \n    def getShortestPathTo(self, targetVertex):\n        \n        '''\n        We traverse the graph using backtracking, using the predecessor pointers\n        '''\n        print('Distance to {} is {}'.format(targetVertex.name, targetVertex.minDistance))\n        currentNode = targetVertex # Create a pointer to traverse the path\n        while currentNode is not None:\n            print(currentNode.name)\n            currentNode = currentNode.predecessor",
      "execution_count": 11,
      "outputs": []
    },
    {
      "metadata": {},
      "cell_type": "markdown",
      "source": "### Testing"
    },
    {
      "metadata": {
        "trusted": true
      },
      "cell_type": "code",
      "source": "# Creating the nodes\nnode1 = Node('Main Gate')\nnode2 = Node('Parking Lot')\nnode3 = Node('Flagpost')\nnode4 = Node('Round About')\nnode5 = Node('CD Hostel Entrance')\nnode8 = Node('B-Block Backside')\nnode9 = Node('C,B Block Intersection')\nnode10 = Node('CD Block Backside')\nnode11 = Node('Sports Road')\nnode12 = Node('Sports Complex')\n\n# Creating the edges\nedge1 = Edge(261, node1, node2)\nedge2 = Edge(59, node2, node4)\nedge3 = Edge(125, node2, node3)\nedge4 = Edge(122, node4, node5)\nedge5 = Edge(66, node3, node5)\nedge6 = Edge(98, node3, node8)\nedge9 = Edge(50, node8, node9)\nedge10 = Edge(99, node5, node9)\nedge11 = Edge(99, node10, node11)\nedge12 = Edge(198, node11, node12)\nedge13 = Edge(27, node5, node10)\nedge14 = Edge(45, node9, node11)\n\n# Adding Edges to node adjacency Lists\nnode1.adjacencyList.append(edge1)\nnode2.adjacencyList.append(edge2)\nnode2.adjacencyList.append(edge3)\nnode3.adjacencyList.append(edge5)\nnode4.adjacencyList.append(edge4)\nnode5.adjacencyList.append(edge13)\nnode5.adjacencyList.append(edge10)\nnode6.adjacencyList.append(edge8)\nnode8.adjacencyList.append(edge9)\nnode9.adjacencyList.append(edge14)\nnode10.adjacencyList.append(edge11)\nnode11.adjacencyList.append(edge12)",
      "execution_count": 16,
      "outputs": []
    },
    {
      "metadata": {
        "trusted": true
      },
      "cell_type": "code",
      "source": "algo = Algorithm()\nalgo.calculateShortestPath(node1, [node1, node2, node3, node4, node5, node8, node9, node10, node11, node12])\nalgo.getShortestPathTo(targetVertex=node12)",
      "execution_count": 17,
      "outputs": [
        {
          "output_type": "stream",
          "text": "Distance to Sports Complex is 766\nSports Complex\nSports Road\nCD Block Backside\nCD Hostel Entrance\nRound About\nParking Lot\nMain Gate\n",
          "name": "stdout"
        }
      ]
    },
    {
      "metadata": {
        "trusted": true
      },
      "cell_type": "code",
      "source": "",
      "execution_count": null,
      "outputs": []
    }
  ],
  "metadata": {
    "kernelspec": {
      "name": "python36",
      "display_name": "Python 3.6",
      "language": "python"
    },
    "language_info": {
      "mimetype": "text/x-python",
      "nbconvert_exporter": "python",
      "name": "python",
      "pygments_lexer": "ipython3",
      "version": "3.6.6",
      "file_extension": ".py",
      "codemirror_mode": {
        "version": 3,
        "name": "ipython"
      }
    }
  },
  "nbformat": 4,
  "nbformat_minor": 2
}