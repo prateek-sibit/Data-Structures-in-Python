{
  "cells": [
    {
      "metadata": {
        "collapsed": true
      },
      "cell_type": "markdown",
      "source": "# Dijkstra Algorithm Implementation\nImplementing Dijkstras shorte path algorithm in python"
    },
    {
      "metadata": {
        "trusted": true
      },
      "cell_type": "code",
      "source": "# Importing Libraries\nimport sys\nimport heapq # Using a Heap Data structure",
      "execution_count": 1,
      "outputs": []
    },
    {
      "metadata": {
        "trusted": true
      },
      "cell_type": "code",
      "source": "class Edge():\n    # Constructor\n    def __init__(self, weight, startVertex, targetVertex):\n        self.weight = weight\n        self.startVertex = startVertex\n        self.targetVertex = targetVertex",
      "execution_count": 2,
      "outputs": []
    },
    {
      "metadata": {
        "trusted": true
      },
      "cell_type": "code",
      "source": "class Node():\n    # Constructor\n    def __init__(self, name):\n        self.name = name\n        self.visited = False\n        self.predecessor = None\n        self.adjacencyList = []\n        self.minDistance = sys.maxsize # Can't initiliaze initial distance to inf so we assign sys.maxsize\n    \n    # Overriding comparator method\n    def __lt__(self, otherVertex):\n        return self.minDistance < otherVertex.minDistance",
      "execution_count": 3,
      "outputs": []
    },
    {
      "metadata": {
        "trusted": true
      },
      "cell_type": "code",
      "source": "class Algorithm():\n    \n    def calculateShortestPath(self, vertexList, startVertex):\n        # Creating heap \n        q = []\n        startVertex.minDistance = 0 # Set startdistance of initial vertex as 0\n        heapq.heappush(q, startVertex)\n        # While queue is not empty\n        while q:\n            \n            actualVertex = heapq.heappop(q)\n            for edge in actualVertex.adjacencyList:\n                u = edge.startVertex\n                v = edge.targetVertex\n                newDistance = u.minDistance + edge.weight\n                \n                if newDistance < v.minDistance:\n                    v.predecessor = u\n                    v.minDistance = newDistance\n                    heapq.heappush(q, v)\n                    \n    def getShortestPathTo(self, targetVertex):\n        print('Shortest path to target vertex is : {}'.format(targetVertex.minDistance))\n        # Backtracking to trace path\n        node = targetVertex\n        while node is not None:\n            print(node.name)\n            node = node.predecessor",
      "execution_count": 10,
      "outputs": []
    },
    {
      "metadata": {},
      "cell_type": "markdown",
      "source": "### Testing"
    },
    {
      "metadata": {
        "trusted": true
      },
      "cell_type": "code",
      "source": "node1 = Node('A')\nnode2 = Node('B')\nnode3 = Node('C')\nnode4 = Node('D')\nnode5 = Node('E')\nnode6 = Node('F')\nnode7 = Node('G')\nnode8 = Node('H')\n\nedge1 = Edge(5, node1, node2)\nedge2 = Edge(8, node1, node8)\nedge3 = Edge(9, node1, node5)\nedge4 = Edge(15, node2, node4)\nedge5 = Edge(12, node2, node3)\nedge6 = Edge(4, node2, node8)\nedge7 = Edge(7, node8, node3)\nedge8 = Edge(6, node8, node6)\nedge9 = Edge(5, node5, node8)\nedge10 = Edge(4, node5, node6)\nedge11 = Edge(20, node5, node7)\nedge12 = Edge(1, node6, node3)\nedge13 = Edge(13, node6, node7)\nedge14 = Edge(3, node3, node4)\nedge15 = Edge(11, node3, node7)\nedge16 = Edge(9, node4, node7)\n\nnode1.adjacencyList.append(edge1)\nnode1.adjacencyList.append(edge2)\nnode1.adjacencyList.append(edge3)\nnode2.adjacencyList.append(edge4)\nnode2.adjacencyList.append(edge5)\nnode2.adjacencyList.append(edge6)\nnode8.adjacencyList.append(edge7)\nnode8.adjacencyList.append(edge8)\nnode5.adjacencyList.append(edge9)\nnode5.adjacencyList.append(edge10)\nnode5.adjacencyList.append(edge11)\nnode6.adjacencyList.append(edge12)\nnode6.adjacencyList.append(edge13)\nnode3.adjacencyList.append(edge14)\nnode3.adjacencyList.append(edge15)\nnode4.adjacencyList.append(edge16)\n\nvertextList = [node1,node2,node3,node4,node5,node6,node7,node8]\n\nalgorithm = Algorithm()\nalgorithm.calculateShortestPath(vertextList, node1)\nalgorithm.getShortestPathTo(node7)\n",
      "execution_count": 11,
      "outputs": [
        {
          "output_type": "stream",
          "text": "Shortest path to target vertex is : 25\nG\nC\nF\nE\nA\n",
          "name": "stdout"
        }
      ]
    },
    {
      "metadata": {
        "trusted": true
      },
      "cell_type": "code",
      "source": "",
      "execution_count": null,
      "outputs": []
    }
  ],
  "metadata": {
    "kernelspec": {
      "name": "python36",
      "display_name": "Python 3.6",
      "language": "python"
    },
    "language_info": {
      "mimetype": "text/x-python",
      "nbconvert_exporter": "python",
      "name": "python",
      "pygments_lexer": "ipython3",
      "version": "3.6.6",
      "file_extension": ".py",
      "codemirror_mode": {
        "version": 3,
        "name": "ipython"
      }
    }
  },
  "nbformat": 4,
  "nbformat_minor": 2
}