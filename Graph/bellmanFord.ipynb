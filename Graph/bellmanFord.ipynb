{
  "cells": [
    {
      "metadata": {
        "collapsed": true
      },
      "cell_type": "markdown",
      "source": "# Bellman Ford Implementation\nImplementing Bellman ford shortest path algorithm in python"
    },
    {
      "metadata": {
        "trusted": true
      },
      "cell_type": "code",
      "source": "import sys # For initialaization phase of distance[vertex] = Infinite",
      "execution_count": 1,
      "outputs": []
    },
    {
      "metadata": {
        "trusted": true
      },
      "cell_type": "code",
      "source": "class Node():\n    # Constructor \n    def __init__(self, name):\n        self.name = name\n        self.visited = False\n        self.predecessor = None\n        self.adjacencyList = []\n        self.minDistance = sys.maxsize",
      "execution_count": 2,
      "outputs": []
    },
    {
      "metadata": {
        "trusted": true
      },
      "cell_type": "code",
      "source": "class Edge():\n    # Constructor \n    def __init__(self, weight, startVertex, targetVertex):\n        self.weight = weight\n        self.startVertex = startVertex\n        self.targetVertex = targetVertex",
      "execution_count": 4,
      "outputs": []
    },
    {
      "metadata": {
        "trusted": true
      },
      "cell_type": "code",
      "source": "class BellmanFord():\n    \n    HAS_CYCLE = False\n    \n    def calculateShortestPath(self, vertexList, edgeList, startVertex):\n        \n        startVertex.minDistance = 0\n        # O(V*E) Time Complexity\n        for i in range(0, len(vertexList)-1): # Loop runs till V-1\n            # Iterate through all the edges\n            for edge in edgeList:\n                u = edge.startVertex\n                v = edge.targetVertex\n                newDistance = u.minDistance + edge.weight\n                \n                if newDistance < v.minDistance:\n                    v.minDistance = newDistance\n                    v.predecessor = u\n        \n        \n        for edge in edgeList:\n            if self.hasCycle(edge):\n                print('Negative Cycle Detected...')\n                BellmanFord.HAS_CYCLE = True\n                return \n    \n    def hasCycle(self, edge):\n        if (edge.startVertex.minDistance + edge.weight) < edge.targetVertex.minDistance:\n            return True\n        else:\n            return False\n    \n    def getShortestPathTo(self, targetVertex):\n        \n        if BellmanFord.HAS_CYCLE is False:\n            print('Shortest path exists with min-distance : ', targetVertex.minDistance)\n            # Tracing the path\n            node = targetVertex\n            \n            while node is not None:\n                print(node.name)\n                node = node.predecessor",
      "execution_count": 7,
      "outputs": []
    },
    {
      "metadata": {
        "trusted": true
      },
      "cell_type": "code",
      "source": "# Testing\nA = Node('A')\nB = Node('B')\nC = Node('C')\nD = Node('D')\nE = Node('E')\nF = Node('F')\n\nedge1 = Edge(5, A, B)\nedge2 = Edge(9, A, E)\nedge3 = Edge(8, A, D)\nedge4 = Edge(12, B, C)\nedge5 = Edge(4, B, D)\nedge6 = Edge(7, D, C)\nedge7 = Edge(6, D, F)\nedge8 = Edge(5, E, D)\nedge9 = Edge(4, E, F)\nedge10 = Edge(1, F, C)\n    \nA.adjacencyList.append(B)\nA.adjacencyList.append(E)\nA.adjacencyList.append(D)\nB.adjacencyList.append(D)\nB.adjacencyList.append(C)\nD.adjacencyList.append(C)\nD.adjacencyList.append(F)\nE.adjacencyList.append(D)\nE.adjacencyList.append(F)\nF.adjacencyList.append(C)\n    \nvertexList = [A, B, C, D, E, F]\nedgeList = [edge1, edge2, edge3, edge4, edge5, edge6, edge7, edge8, edge9, edge10]\n    \nalgorithm = BellmanFord()\nalgorithm.calculateShortestPath(vertexList, edgeList, A)\nalgorithm.getShortestPathTo(C)",
      "execution_count": 8,
      "outputs": [
        {
          "output_type": "stream",
          "text": "Shortest path exists with min-distance :  14\nC\nF\nE\nA\n",
          "name": "stdout"
        }
      ]
    },
    {
      "metadata": {
        "trusted": true
      },
      "cell_type": "code",
      "source": "",
      "execution_count": null,
      "outputs": []
    }
  ],
  "metadata": {
    "kernelspec": {
      "name": "python36",
      "display_name": "Python 3.6",
      "language": "python"
    },
    "language_info": {
      "mimetype": "text/x-python",
      "nbconvert_exporter": "python",
      "name": "python",
      "pygments_lexer": "ipython3",
      "version": "3.6.6",
      "file_extension": ".py",
      "codemirror_mode": {
        "version": 3,
        "name": "ipython"
      }
    }
  },
  "nbformat": 4,
  "nbformat_minor": 2
}