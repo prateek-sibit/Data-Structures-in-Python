{
  "cells": [
    {
      "metadata": {
        "collapsed": true
      },
      "cell_type": "markdown",
      "source": "# Breadth First Search Implementation\nBFS Implementation in Python. BFS is a Graph Traversal algorithm used to traverse all nodes in a give graph"
    },
    {
      "metadata": {
        "trusted": true
      },
      "cell_type": "code",
      "source": "# Implementing Node Class -> Represents vertices in a graph\nclass Node():\n    \n    # Constructor method\n    def __init__(self, name):\n        self.name = name\n        self.adjacencyList = [] # list of neighbours to given node\n        self.visited = False # to check if node was visited\n        self.predecessor = None",
      "execution_count": 4,
      "outputs": []
    },
    {
      "metadata": {
        "trusted": true
      },
      "cell_type": "code",
      "source": "# BFS Class\n# Uses -> Queue Data type \nclass BreadthFirstSearch():\n    # Method for the bfs traversal\n    def bfs(self, startNode):\n        \n        queue = []\n        startNode.visited = True # set node to be visited\n        queue.append(startNode) # add startNode to queue\n        traversal = [] # to store traversal order\n        # Algorithm runs till the queue is not empty\n        while queue:\n            # Pop topmost item in the queue\n            actualNode = queue.pop(0)\n            print(actualNode.name)\n            traversal.append(actualNode.name)\n            # Traverse neighbours of popped item\n            for neighbour in actualNode.adjacencyList:\n                if neighbour.visited == False: # check if neighbour has been visited previously or not\n                    neighbour.visited = True\n                    queue.append(neighbour)\n        print('BFS Traversal of given Graph with startvertex {} : {}'.format(startNode.name, traversal))",
      "execution_count": 7,
      "outputs": []
    },
    {
      "metadata": {},
      "cell_type": "markdown",
      "source": "### Testing"
    },
    {
      "metadata": {
        "trusted": true
      },
      "cell_type": "code",
      "source": "node1 = Node('A')\nnode2 = Node('B')\nnode3 = Node('C')\nnode4 = Node('D')\nnode5 = Node('E')\n\nnode1.adjacencyList.append(node2)\nnode1.adjacencyList.append(node3)\nnode2.adjacencyList.append(node4)\nnode4.adjacencyList.append(node5)\n\nbfs = BreadthFirstSearch()\nbfs.bfs(node1)",
      "execution_count": 8,
      "outputs": [
        {
          "output_type": "stream",
          "text": "A\nB\nC\nD\nE\nBFS Traversal of given Graph with startvertex A : ['A', 'B', 'C', 'D', 'E']\n",
          "name": "stdout"
        }
      ]
    }
  ],
  "metadata": {
    "kernelspec": {
      "name": "python36",
      "display_name": "Python 3.6",
      "language": "python"
    },
    "language_info": {
      "mimetype": "text/x-python",
      "nbconvert_exporter": "python",
      "name": "python",
      "pygments_lexer": "ipython3",
      "version": "3.6.6",
      "file_extension": ".py",
      "codemirror_mode": {
        "version": 3,
        "name": "ipython"
      }
    }
  },
  "nbformat": 4,
  "nbformat_minor": 2
}