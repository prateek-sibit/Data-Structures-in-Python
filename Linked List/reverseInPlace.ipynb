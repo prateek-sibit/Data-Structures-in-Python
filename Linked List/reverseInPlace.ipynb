{
  "cells": [
    {
      "metadata": {
        "collapsed": true
      },
      "cell_type": "markdown",
      "source": "# Reversing a Linked List in Place\n1) Naive Solution : We consider all the nodes one by one then consturct another linked list in reverse order\n   **Problem : It has O(N) memory complexity so it is not in-place**\n   \n2) Using Pointers : We can achieve an in-place algorithm that has O(N) linear running time complexity as well\n   \n   **Algorithm**\n   1. Use three more pointers : prev, current, next\n   2. prev, next : initialized to NULL\n   3. curr->next = prev\n   4. prev = current\n   5. current = next\n   "
    },
    {
      "metadata": {
        "trusted": true
      },
      "cell_type": "code",
      "source": "# Creating Node class for a Linked list node\nclass Node():\n    \n    def __init__(self, data):\n        # Each node has a data, reference to next node\n        self.data = data\n        self.nextNode = None",
      "execution_count": 1,
      "outputs": []
    },
    {
      "metadata": {
        "trusted": true
      },
      "cell_type": "code",
      "source": "class LinkedList():\n    \n    def __init__(self):\n        # Initialize the root node(starting node) for the Linked-list\n        self.root = None\n        self.size = 0\n    \n    # O(1) Time Complexity\n    def insertStart(self, data):\n        # Insert data at the start\n        # Create node to insert\n        self.size += 1\n        newNode = Node(data)\n        \n        if self.root is None:\n            self.root = newNode\n        else:\n            # Point newNode to the current root\n            newNode.nextNode = self.root\n            self.root = newNode\n    \n    # O(N) Time Complexity\n    def remove(self, data):\n        \n        if self.root is None:\n            return 0\n        \n        self.size -= 1\n        \n        currentNode = self.root\n        previousNode = None\n        \n        while(currentNode.data != data):\n            previousNode = currentNode\n            currentNode = currentNode.nextNode\n        \n        if previousNode is None:\n            self.root = currentNode.nextNode\n        else: \n            previousNode.nextNode = currentNode.nextNode\n                \n        \n    # O(1) Time Complexity\n    def size1(self):\n        return self.size\n    \n    # O(N) Time Complexity\n    def size2(self):\n        # Calculating the size using list traversal\n        currentNode = self.root\n        size = 0\n        \n        while(currentNode.nextNode is not None):\n            size += 1\n            currentNode = currentNode.nextNode\n            \n        return size\n    \n    # O(N) Time Complexity\n    def insertEnd(self, data):\n        # Iterate through the list till currentNode.nextNode is not None\n        currentNode = self.root\n        newNode = Node(data)\n        self.size += 1\n        \n        while(currentNode.nextNode is not None):\n            currentNode = currentNode.nextNode\n        # Now currentNode.nextNode is None\n        currentNode.nextNode = newNode\n    \n    def printStyle(self):\n        # Traverses the linked list and prints out in style\n        currentNode = self.root\n        output = str(currentNode.data) + '->'\n\n        while(currentNode.nextNode is not None):\n            currentNode = currentNode.nextNode\n            output += str(currentNode.data) + '->'\n        \n        return output\n            \n    def traverse(self):\n        # Traverses the linked list\n        currentNode = self.root\n        print(currentNode.data)\n        \n        while(currentNode.nextNode is not None):\n            currentNode = currentNode.nextNode\n            print(currentNode.data)\n    \n    # Function To reverse In-place\n    # O(N) Time Complexity\n    def reverse(self):\n        \n        currentNode = self.root\n        previousNode = None\n        nextNode = None\n        \n        while(currentNode is not None):\n            nextNode = currentNode.nextNode\n            currentNode.nextNode = previousNode\n            previousNode = currentNode\n            currentNode = nextNode\n        \n        self.root = previousNode",
      "execution_count": 2,
      "outputs": []
    },
    {
      "metadata": {
        "trusted": true
      },
      "cell_type": "code",
      "source": "ll = LinkedList()\nll.insertStart(10)\nll.insertStart(2)\nll.insertStart(13)\nll.insertStart(14)\nll.insertStart(15)\nll.insertStart(21)\nll.insertStart(17)\n\nll.traverse()",
      "execution_count": 3,
      "outputs": [
        {
          "output_type": "stream",
          "text": "17\n21\n15\n14\n13\n2\n10\n",
          "name": "stdout"
        }
      ]
    },
    {
      "metadata": {
        "trusted": true
      },
      "cell_type": "code",
      "source": "ll.reverse()\nll.traverse()",
      "execution_count": 4,
      "outputs": [
        {
          "output_type": "stream",
          "text": "10\n2\n13\n14\n15\n21\n17\n",
          "name": "stdout"
        }
      ]
    },
    {
      "metadata": {
        "trusted": true
      },
      "cell_type": "code",
      "source": "",
      "execution_count": null,
      "outputs": []
    }
  ],
  "metadata": {
    "kernelspec": {
      "name": "python36",
      "display_name": "Python 3.6",
      "language": "python"
    },
    "language_info": {
      "mimetype": "text/x-python",
      "nbconvert_exporter": "python",
      "name": "python",
      "pygments_lexer": "ipython3",
      "version": "3.6.6",
      "file_extension": ".py",
      "codemirror_mode": {
        "version": 3,
        "name": "ipython"
      }
    }
  },
  "nbformat": 4,
  "nbformat_minor": 2
}