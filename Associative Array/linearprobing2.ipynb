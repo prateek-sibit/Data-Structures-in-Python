{
  "cells": [
    {
      "metadata": {
        "collapsed": true
      },
      "cell_type": "markdown",
      "source": "# Alternate Implementation for Linear Probing"
    },
    {
      "metadata": {
        "trusted": true
      },
      "cell_type": "code",
      "source": "class HashTable():\n    \n    # Constructor \n    def __init__(self, capacity):\n        self.capacity = capacity\n        self.slots = [None] * self.capacity\n        self.count = 0\n    \n    # Method to view hashtable\n    def view(self):\n        print(self.slots)\n        \n    # Method to generate hash for a given key\n    def hashfunction(self, key):\n        \n        sumTot = 0\n        for char in range(len(key)):\n            sumTot += ord(key[char])\n        return sumTot % self.capacity\n    \n    # Method to find slot in the buckets\n    def findslot(self, key):\n        # Find initial index\n        slot = self.hashfunction(key)\n        if self.slots[slot] is not None and self.slots[slot] != key:\n            slot = (slot + 1) % self.capacity\n        return slot\n    \n    # Method to insert key into slots\n    def insert(self, key):\n        \n        slot = self.findslot(key)\n        if self.slots[slot] != key:\n            self.slots[slot] = key\n            self.count += 1\n    \n    # Method to get items \n    def get(self, key):\n        i = self.findslot(key)\n        if self.slots[i] is not None:\n            return (self.slots[i], i)\n        return -1\n    \n    def load(self):\n        return self.count / self.capacity",
      "execution_count": 18,
      "outputs": []
    },
    {
      "metadata": {},
      "cell_type": "markdown",
      "source": "#### Testing "
    },
    {
      "metadata": {
        "trusted": true
      },
      "cell_type": "code",
      "source": "table = HashTable(10)\ntable.insert('apple')\ntable.insert('jon')\ntable.insert('kevin')\ntable.insert('bacon')\nprint(table.get('bacon'))\ntable.view()",
      "execution_count": 20,
      "outputs": [
        {
          "output_type": "stream",
          "text": "('bacon', 5)\n['apple', 'kevin', None, None, None, 'bacon', None, 'jon', None, None]\n",
          "name": "stdout"
        }
      ]
    },
    {
      "metadata": {
        "trusted": true
      },
      "cell_type": "code",
      "source": "",
      "execution_count": null,
      "outputs": []
    }
  ],
  "metadata": {
    "kernelspec": {
      "name": "python36",
      "display_name": "Python 3.6",
      "language": "python"
    },
    "language_info": {
      "mimetype": "text/x-python",
      "nbconvert_exporter": "python",
      "name": "python",
      "pygments_lexer": "ipython3",
      "version": "3.6.6",
      "file_extension": ".py",
      "codemirror_mode": {
        "version": 3,
        "name": "ipython"
      }
    }
  },
  "nbformat": 4,
  "nbformat_minor": 2
}