{
  "cells": [
    {
      "metadata": {
        "collapsed": true
      },
      "cell_type": "markdown",
      "source": "# Hashing Implementation \nImplementing associative arrays/hash-tables in python\n**Advantages** (Assuming the Hash function is perfect)\n1. O(1) Insertion\n2. O(1) Retrieval"
    },
    {
      "metadata": {
        "trusted": true
      },
      "cell_type": "code",
      "source": "class HashTable():\n    \n    # Constructor\n    def __init__(self):\n        self.size = 10\n        self.keys = [None] * self.size\n        self.values = [None] * self.size\n    \n    def put(self, key, data):\n        \n        index = self.hashfunction(key)\n        \n        # not None -> It is a collision\n        # if self.keys[index] is not None -> Collision\n        while self.keys[index] is not None:\n            if self.keys[index] == key:\n                self.values[index] = data # update\n                return\n            \n            # Rehash try to find another slot\n            index = (index+1) % self.size\n        \n        # insert\n        self.keys[index] = key\n        self.values[index] = data\n    \n    def get(self, key):\n        \n        index = self.hashfunction(key)\n        \n        while self.keys[index] is not None:\n            if self.keys[index] == key:\n                return self.values[index]\n            \n            index = (index + 1) % self.size\n        \n        # None return means that item wasn't present\n        return None\n            \n        \n    # Generate an index for a given key\n    def hashfunction(self, key):\n        \n        sumTot = 0\n        for pos in range(len(key)):\n            sumTot += ord(key[pos])\n        return sumTot % self.size",
      "execution_count": 5,
      "outputs": []
    },
    {
      "metadata": {},
      "cell_type": "markdown",
      "source": "#### Testing\n"
    },
    {
      "metadata": {
        "trusted": true
      },
      "cell_type": "code",
      "source": "table = HashTable()\ntable.put('apple', 10)\ntable.put('orange', 20)\ntable.put('car', 40)\n\nprint(table.get('orange'))",
      "execution_count": 6,
      "outputs": [
        {
          "output_type": "stream",
          "text": "20\n",
          "name": "stdout"
        }
      ]
    },
    {
      "metadata": {},
      "cell_type": "markdown",
      "source": "#### Dictionaries in Python\nDictionaries have no ordering hence no sorting functions are possible"
    },
    {
      "metadata": {
        "trusted": true
      },
      "cell_type": "code",
      "source": "my_dict = {'Joe':14, 'Adam':26, 'Emily':56}\nprint(my_dict['Joe'])\nmy_dict['Joe'] = 15\nprint(my_dict['Joe'])\n# Removing all entries -> dict.clear(my_dict) : Items Removal\n# deleting structure -> del my_dict\n# Printing all values\nprint(my_dict.values())\n# Printing all keys\nprint(my_dict.keys())\n# Printing items\nprint(my_dict.items())",
      "execution_count": 13,
      "outputs": [
        {
          "output_type": "stream",
          "text": "14\n15\ndict_values([15, 26, 56])\ndict_keys(['Joe', 'Adam', 'Emily'])\ndict_items([('Joe', 15), ('Adam', 26), ('Emily', 56)])\n",
          "name": "stdout"
        }
      ]
    },
    {
      "metadata": {
        "trusted": true
      },
      "cell_type": "code",
      "source": "",
      "execution_count": null,
      "outputs": []
    }
  ],
  "metadata": {
    "kernelspec": {
      "name": "python36",
      "display_name": "Python 3.6",
      "language": "python"
    },
    "language_info": {
      "mimetype": "text/x-python",
      "nbconvert_exporter": "python",
      "name": "python",
      "pygments_lexer": "ipython3",
      "version": "3.6.6",
      "file_extension": ".py",
      "codemirror_mode": {
        "version": 3,
        "name": "ipython"
      }
    }
  },
  "nbformat": 4,
  "nbformat_minor": 2
}