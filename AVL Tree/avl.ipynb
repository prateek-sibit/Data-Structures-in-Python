{
  "cells": [
    {
      "metadata": {
        "collapsed": true
      },
      "cell_type": "markdown",
      "source": "# AVL Tree Implementation\n\nImplementing AVL Trees using Python"
    },
    {
      "metadata": {
        "trusted": true
      },
      "cell_type": "code",
      "source": "# Node class\nclass Node():\n    \n    # Constructor\n    def __init__(self, data):\n        self.data = data\n        self.leftChild = None\n        self.rightChild = None\n        # We'll have an extra height parameter to track each node's height\n        self.height = 0",
      "execution_count": 1,
      "outputs": []
    },
    {
      "metadata": {
        "trusted": true
      },
      "cell_type": "code",
      "source": "# Implementing AVL Tree\nclass AVL():\n    \n    # Constructor for AVL Class\n    def __init__(self):\n        # Initialize root node as None\n        self.root = None\n        \n    def traverse(self):\n        \n        if self.root is None:\n            return\n        else:\n            self.traverseInOrder(self.root)\n    \n    def traverseInOrder(self, node):\n        \n        if node.leftChild is not None:\n            self.traverseInOrder(node.leftChild)\n        \n        print(node.data)\n        \n        if node.rightChild is not None:\n            self.traverseInOrder(node.rightChild)\n    \n    # Helper Method to insert items \n    def insert(self, data):\n        \n        if self.root is None:\n            self.root = Node(data)\n        else:\n            self.insertNode(data, self.root)\n    \n    # Main method to insert items\n    def insertNode(self, data, node):\n        \n        if data < node.data:\n            # Insert to the left subtree\n            if node.leftChild is not None:\n                self.insertNode(data, node.leftChild)\n            else:\n                node.leftChild = Node(data)\n        else:\n            # Insert to the right subtree\n            if node.rightChild is not None:\n                self.insertNode(data, node.rightChild)\n            else:\n                node.rightChild = Node(data)\n        \n        # Update height of parent node after which child was inserted\n        node.height = max(self.calcHeight(node.leftChild),\n                          self.calcHeight(node.rightChild)) + 1\n        # Call method to settle any violations of Balance Factor being > 1\n        self.settleViolations(data, node)\n    \n    # Main function to settle violations and maintain the topology of the tree\n    def settleViolations(self, data, node):\n        # Calculate balance of node\n        balance = self.calcBalance(node)\n        \n        # Case 1 - LL Heavy Situation\n        if balance > 1 and data < node.leftChild.data:\n            # Right rotate on node\n            print('Left Left Heavy Situation')\n            self.rotateRight(node)\n        \n        # Case 2 - RR Heavy Situation\n        elif balance < -1 and data > node.rightChild.data:\n            # Left rotate on node\n            print('Right Right Heavy Situation')\n            self.rotateLeft(node)\n        \n        # Case 3 - LR Heavy Situation\n        elif balance > 1 and data > node.leftChild.data:\n            # First Left rotate on node \n            print('Left Right Heavy Situation')\n            self.rotateLeft(node.leftChild)\n            self.rotateRight(node)\n        \n        # Case 4 - RL Heavy Situation\n        elif balance < -1 and data < node.rightChild.data:\n            # First Left rotate on node \n            print('Right Left Heavy Situation')\n            self.rotateRight(node.rightChild)\n            self.rotateLeft(node)\n        \n    \n    def calcHeight(self, node):\n        # Function to calculate height of a given node\n        if node is None:\n            return -1\n        \n        return node.height\n    \n    # If B.F > 1 -> Left heavy Situation -> Right Rotation\n    # If B.F < -1 -> Right heavy Situation -> Left Rotation\n    def calcBalance(self, node):\n        \n        if node is None:\n            return 0\n        \n        return self.calcHeight(node.leftChild) - self.calcHeight(node.rightChild)\n    \n    # IMPLEMENTING ROTATIONS\n    def rotateRight(self, node):\n        print('Rotating to the right on node', node.data)\n        \n        tempNode = node.leftChild\n        t = tempNode.rightChild\n        tempNode.rightChild = node\n        node.leftChild = t\n        # Update heights\n        node.height = max(self.calcHeight(node.leftChild), self.calcHeight(node.rightChild)) + 1\n        tempNode.height = max(self.calcHeight(tempNode.leftChild), self.calcHeight(tempNode.rightChild)) + 1\n    \n    def rotateLeft(self, node):\n        print('Rotating to the left on node', node.data)\n        \n        tempNode = node.rightChild\n        t = tempNode.leftChild\n        tempNode.leftChild = node\n        node.rightChild = t\n        # Update heights\n        node.height = max(self.calcHeight(node.leftChild), self.calcHeight(node.rightChild)) + 1\n        tempNode.height = max(self.calcHeight(tempNode.leftChild), self.calcHeight(tempNode.rightChild)) + 1",
      "execution_count": 2,
      "outputs": []
    },
    {
      "metadata": {},
      "cell_type": "markdown",
      "source": "#### Testing"
    },
    {
      "metadata": {
        "trusted": true
      },
      "cell_type": "code",
      "source": "avl = AVL()\navl.insert(10)\navl.insert(20)\navl.insert(30)",
      "execution_count": 7,
      "outputs": [
        {
          "output_type": "stream",
          "text": "Right Right Heavy Situation\nRotating to the left on node 10\n",
          "name": "stdout"
        }
      ]
    }
  ],
  "metadata": {
    "kernelspec": {
      "name": "python36",
      "display_name": "Python 3.6",
      "language": "python"
    },
    "language_info": {
      "mimetype": "text/x-python",
      "nbconvert_exporter": "python",
      "name": "python",
      "pygments_lexer": "ipython3",
      "version": "3.6.6",
      "file_extension": ".py",
      "codemirror_mode": {
        "version": 3,
        "name": "ipython"
      }
    }
  },
  "nbformat": 4,
  "nbformat_minor": 2
}