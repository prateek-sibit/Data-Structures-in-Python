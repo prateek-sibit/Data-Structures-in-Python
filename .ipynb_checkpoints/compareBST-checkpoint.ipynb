{
  "cells": [
    {
      "metadata": {
        "collapsed": true
      },
      "cell_type": "markdown",
      "source": "# Compare Binary Trees\n\nInterview Question #11\n\nWrite an efficient algorithm thats able to compare two binary search trees. The method returns true if the trees are identical (same topology with same values in the nodes) otherwise it returns false.\n\nAlgorithm :\n1. Traverse trees using in-order traversal\n2. Compare tree nodes one by one"
    },
    {
      "metadata": {
        "trusted": true
      },
      "cell_type": "code",
      "source": "# Node Class To represent the Vertices/Nodes in the Tree\nclass Node():\n    \n    # Constructor \n    def __init__(self, data):\n        self.data = data\n        self.leftChild = None\n        self.rightChild = None",
      "execution_count": 1,
      "outputs": []
    },
    {
      "metadata": {
        "trusted": true
      },
      "cell_type": "code",
      "source": "# Implementing BST Class\nclass BinarySearchTree():\n    \n    # Constructor\n    def __init__(self):\n        self.root = None\n    \n    # Insert method to insert items\n    def insert(self, data):\n        \n        if self.root is None:\n            self.root = Node(data)\n        else:\n            self.insertNode(data, self.root)\n    \n    # Method to insert data Node\n    # O(logN) Time complexity : If the tree is balanced\n    # O(N) : If the tree is not balanced\n    def insertNode(self, data, node):\n        \n        if data < node.data:\n            # Insert to the left subtree\n            if node.leftChild is not None:\n                # Recursive call\n                self.insertNode(data, node.leftChild)\n            else:\n                node.leftChild = Node(data)\n        elif data > node.data:\n            # Insert to the right subtree\n            if node.rightChild is not None:\n                # Recursive call\n                self.insertNode(data, node.rightChild)\n            else:\n                node.rightChild = Node(data)\n    \n    \n    # Remove method to remove node\n    # Helper method\n    def remove(self, data):\n        if self.root is not None:\n            self.removeNode(data, self.root)\n    \n    # Method to remove node with given data\n    def removeNode(self, data, node):\n        \n        if node is None:\n            return node\n        \n        if data < node.data:\n            # Item we're looking for is in the left subtree\n            node.leftChild = self.removeNode(data, node.leftChild)\n        elif data > node.data:\n            # Item we're looking for is in the right subtree\n            node.rightChild = self.removeNode(data, node.rightChild)\n        else:\n            # Node we're at is the node to be removed\n            # 3 Cases\n            if node.leftChild is None and node.rightChild is None:\n                # Leaf node\n                print('Removing leaf node')\n                del node\n                return None\n            if node.leftChild is None and node.rightChild is not None:\n                # Single right child\n                print('Removing node with single right child')\n                tempNode = node.rightChild\n                del node\n                return tempNode\n            elif node.leftChild is not None and node.rightChild is None:\n                # Single left child\n                print('Removing node with single left child')\n                tempNode = node.leftChild\n                del node\n                return tempNode\n            \n            print('Removing node with two children')\n            tempNode = self.getPredecessor(node.leftChild)\n            node.data = tempNode.data\n            node.leftChild = self.removeNode(tempNode.data, node.leftChild)\n    \n    def getPredecessor(self, node):\n        \n        if node.rightChild:\n            return getPredecessor(node.rightChild)\n        \n        return node\n                \n            \n                \n    # Method to get the minimum value of tree\n    def getMinValue(self):\n        \n        if self.root is not None:\n            return self.getMin(self.root)\n    \n    # Main function to traverse and get the min value\n    def getMin(self, node):\n        \n        if node.leftChild is None:\n            return node.data\n        else:\n            return self.getMin(node.leftChild)\n    \n    # Method to get the maximum value of tree\n    def getMaxValue(self):\n        \n        if self.root is not None:\n            return self.getMax(self.root)\n    \n    # Main funcion to traverse and get the max value\n    def getMax(self, node):\n        \n        if node.rightChild is None:\n            return node.data\n        else:\n            return self.getMax(node.rightChild)\n    \n    # Traversing the tree\n    def traverse(self):\n        \n        if self.root is not None:\n            self.traverseInOrder(self.root)\n    \n    # In-order traversal \n    def traverseInOrder(self, node):\n        \n        # In-order : Left, Root, Right\n        if node.leftChild is not None:\n            self.traverseInOrder(node.leftChild)\n            \n        print(node.data)\n        \n        if node.rightChild is not None:\n            self.traverseInOrder(node.rightChild)",
      "execution_count": 32,
      "outputs": []
    },
    {
      "metadata": {
        "trusted": true
      },
      "cell_type": "code",
      "source": "class TreeComparator():\n    \n    def compareTrees(self, node1, node2):\n        # Base cases : when node1, node2 are the children of leaf nodes\n        if node1 is None or node2 is None:\n            return node1 == node2\n        \n        # If values within the nodes are not the same then we return false\n        if node1.data is not node2.data:\n            return False\n        \n        # The left subtree and right subtree values must match as well\n        return self.compareTrees(node1.leftChild, node2.leftChild) and self.compareTrees(node1.rightChild, node2.rightChild)\n            ",
      "execution_count": 35,
      "outputs": []
    },
    {
      "metadata": {
        "trusted": true
      },
      "cell_type": "code",
      "source": "bst = BinarySearchTree()\nbst.insert(4)\nbst.insert(5)\nbst.insert(10)\nbst.insert(25)\nbst.insert(3)\nbst.insert(2)\nbst.insert(1)\n\nbst2 = BinarySearchTree()\nbst2.insert(4)\nbst2.insert(5)\nbst2.insert(10)\nbst2.insert(25)\nbst2.insert(3)\nbst2.insert(2)\nbst2.insert(1)\n\nbst3 = BinarySearchTree()\nbst3.insert(4)\nbst3.insert(5)\nbst3.insert(10)\nbst3.insert(25)\n\n\ncomparator = TreeComparator()\nprint(comparator.compareTrees(bst.root, bst2.root))\nprint(comparator.compareTrees(bst.root, bst3.root))",
      "execution_count": 36,
      "outputs": [
        {
          "output_type": "stream",
          "text": "True\n",
          "name": "stdout"
        }
      ]
    },
    {
      "metadata": {
        "trusted": true
      },
      "cell_type": "code",
      "source": "",
      "execution_count": null,
      "outputs": []
    }
  ],
  "metadata": {
    "kernelspec": {
      "name": "python36",
      "display_name": "Python 3.6",
      "language": "python"
    },
    "language_info": {
      "mimetype": "text/x-python",
      "nbconvert_exporter": "python",
      "name": "python",
      "pygments_lexer": "ipython3",
      "version": "3.6.6",
      "file_extension": ".py",
      "codemirror_mode": {
        "version": 3,
        "name": "ipython"
      }
    }
  },
  "nbformat": 4,
  "nbformat_minor": 2
}