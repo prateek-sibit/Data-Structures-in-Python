{
  "cells": [
    {
      "metadata": {
        "collapsed": true
      },
      "cell_type": "markdown",
      "source": "# Middle Node in Linked List\nSuppose we have a standard linked list. Construct an in-place (without extra memory) algorithm thats able to find the middle node!"
    },
    {
      "metadata": {
        "trusted": true
      },
      "cell_type": "code",
      "source": "# Creating Node class for a Linked list node\nclass Node():\n    \n    def __init__(self, data):\n        # Each node has a data, reference to next node\n        self.data = data\n        self.nextNode = None",
      "execution_count": 1,
      "outputs": []
    },
    {
      "metadata": {
        "trusted": true
      },
      "cell_type": "code",
      "source": "class LinkedList():\n    \n    def __init__(self):\n        # Initialize the root node(starting node) for the Linked-list\n        self.root = None\n        self.size = 0\n    \n    # O(1) Time Complexity\n    def insertStart(self, data):\n        # Insert data at the start\n        # Create node to insert\n        self.size += 1\n        newNode = Node(data)\n        \n        if self.root is None:\n            self.root = newNode\n        else:\n            # Point newNode to the current root\n            newNode.nextNode = self.root\n            self.root = newNode\n    \n    # O(N) Time Complexity\n    def remove(self, data):\n        \n        if self.root is None:\n            return 0\n        \n        self.size -= 1\n        \n        currentNode = self.root\n        previousNode = None\n        \n        while(currentNode.data != data):\n            previousNode = currentNode\n            currentNode = currentNode.nextNode\n        \n        if previousNode is None:\n            self.root = currentNode.nextNode\n        else: \n            previousNode.nextNode = currentNode.nextNode\n                \n        \n    # O(1) Time Complexity\n    def size1(self):\n        return self.size\n    \n    # O(N) Time Complexity\n    def size2(self):\n        # Calculating the size using list traversal\n        currentNode = self.root\n        size = 0\n        \n        while(currentNode.nextNode is not None):\n            size += 1\n            currentNode = currentNode.nextNode\n            \n        return size\n    \n    # O(N) Time Complexity\n    def insertEnd(self, data):\n        # Iterate through the list till currentNode.nextNode is not None\n        currentNode = self.root\n        newNode = Node(data)\n        self.size += 1\n        \n        while(currentNode.nextNode is not None):\n            currentNode = currentNode.nextNode\n        # Now currentNode.nextNode is None\n        currentNode.nextNode = newNode\n    \n    def printStyle(self):\n        # Traverses the linked list and prints out in style\n        currentNode = self.root\n        output = str(currentNode.data) + '->'\n\n        while(currentNode.nextNode is not None):\n            currentNode = currentNode.nextNode\n            output += str(currentNode.data) + '->'\n        \n        return output\n            \n    def traverse(self):\n        # Traverses the linked list\n        currentNode = self.root\n        print(currentNode.data)\n        \n        while(currentNode.nextNode is not None):\n            currentNode = currentNode.nextNode\n            print(currentNode.data)\n    \n    def middleNode(self):\n        '''\n        Returns a tuple of (middleNodeRef, middleNode Data)\n        '''\n        count = 0\n        n = 0\n        currentNode = self.root\n        if self.size % 2 == 0:\n            n = self.size // 2\n        elif self.size % 2 != 0:\n            n = (self.size + 1) // 2\n        # Traverse till count reaches n\n        while(count != n-1):\n            count += 1\n            currentNode = currentNode.nextNode\n        \n        return (currentNode, currentNode.data)",
      "execution_count": 16,
      "outputs": []
    },
    {
      "metadata": {
        "trusted": true
      },
      "cell_type": "code",
      "source": "ll = LinkedList()\nll.insertStart(5)\nll.insertStart(15)\nll.insertStart(10)\nll.insertStart(25)\nll.insertStart(32)\nll.insertStart(81)\nll.insertStart(17)\nll.insertStart(0)\nll.traverse()",
      "execution_count": 17,
      "outputs": [
        {
          "output_type": "stream",
          "text": "0\n17\n81\n32\n25\n10\n15\n5\n",
          "name": "stdout"
        }
      ]
    },
    {
      "metadata": {
        "trusted": true
      },
      "cell_type": "code",
      "source": "ll.middleNode()",
      "execution_count": 18,
      "outputs": [
        {
          "output_type": "execute_result",
          "execution_count": 18,
          "data": {
            "text/plain": "32"
          },
          "metadata": {}
        }
      ]
    },
    {
      "metadata": {
        "trusted": true
      },
      "cell_type": "code",
      "source": "",
      "execution_count": null,
      "outputs": []
    }
  ],
  "metadata": {
    "kernelspec": {
      "name": "python36",
      "display_name": "Python 3.6",
      "language": "python"
    },
    "language_info": {
      "mimetype": "text/x-python",
      "nbconvert_exporter": "python",
      "name": "python",
      "pygments_lexer": "ipython3",
      "version": "3.6.6",
      "file_extension": ".py",
      "codemirror_mode": {
        "version": 3,
        "name": "ipython"
      }
    }
  },
  "nbformat": 4,
  "nbformat_minor": 2
}