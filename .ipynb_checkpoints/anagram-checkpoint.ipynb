{
  "cells": [
    {
      "metadata": {
        "trusted": true
      },
      "cell_type": "markdown",
      "source": "# Anagram Problem \n\nInterview Question #5\n\nConstruct an algorithm to check whether two words (or phrases) are anagrams or not!\n\nAlgorithm 1 (efficient) : \n1. Sort both words in order\n2. Check elements letter by letter for equality\n\nAlgorithm 2 (not-so-efficient) : \n1. Generate all possible combinations of word2 \n2. If word1 in combinations(word2) return True else return False"
    },
    {
      "metadata": {},
      "cell_type": "markdown",
      "source": "#### Testing Helper Functions for permutations"
    },
    {
      "metadata": {
        "trusted": true
      },
      "cell_type": "code",
      "source": "# Using python library itertools \nfrom itertools import permutations\n\ndef check_anagram(word1, word2):\n    perms = [''.join(p) for p in permutations(word2)]\n    if word1 in perms:\n        return True\n    else:\n        return False",
      "execution_count": 17,
      "outputs": []
    },
    {
      "metadata": {
        "trusted": true
      },
      "cell_type": "code",
      "source": "print(check_anagram('rasp', 'spar'))\nprint(check_anagram('repaint', 'painter'))",
      "execution_count": 18,
      "outputs": [
        {
          "output_type": "stream",
          "text": "True\nTrue\n",
          "name": "stdout"
        }
      ]
    },
    {
      "metadata": {},
      "cell_type": "markdown",
      "source": "#### Efficient Solution"
    },
    {
      "metadata": {
        "trusted": true
      },
      "cell_type": "code",
      "source": "# O(NlogN) + O(N) = O(NlogN) Time complexity. Lineartithmic time complexity\ndef is_anagram(str1, str2):\n    '''\n    1. Sort both strings in order\n    2. Check strings letter by letter and compare\n    3. If comparirision fails anywhere return False else return True\n    '''\n    \n    if len(str1) is not len(str2):\n        return False\n    \n    # Sorting both strings : O(NlogN) Time complexity\n    str1 = sorted(str1)\n    str2 = sorted(str2)\n    \n    # Iterating through the strings to compare\n    # O(N) Time complexity\n    for i in range(len(str1)):\n        if str1[i] != str2[i]:\n            return False\n    \n    return True\n    \n    \n    ",
      "execution_count": 21,
      "outputs": []
    },
    {
      "metadata": {
        "trusted": true
      },
      "cell_type": "code",
      "source": "",
      "execution_count": null,
      "outputs": []
    }
  ],
  "metadata": {
    "kernelspec": {
      "name": "python36",
      "display_name": "Python 3.6",
      "language": "python"
    },
    "language_info": {
      "mimetype": "text/x-python",
      "nbconvert_exporter": "python",
      "name": "python",
      "pygments_lexer": "ipython3",
      "version": "3.6.6",
      "file_extension": ".py",
      "codemirror_mode": {
        "version": 3,
        "name": "ipython"
      }
    }
  },
  "nbformat": 4,
  "nbformat_minor": 2
}