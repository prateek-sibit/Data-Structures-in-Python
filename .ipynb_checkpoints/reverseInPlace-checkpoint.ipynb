{
  "cells": [
    {
      "metadata": {
        "collapsed": true
      },
      "cell_type": "markdown",
      "source": "# Reversing an Array In-place\n\nProblem : The problem is that we want to reverse a T[ ] array in O(N) linear time complexity and we want the algorithm to be in-place as well!\n\nFor example: input is [1,2,3,4,5] then the output is [5,4,3,2,1]\n\n**We explore different methods to do this**"
    },
    {
      "metadata": {
        "trusted": true
      },
      "cell_type": "code",
      "source": "def reverse(T):\n    '''\n    Input : T array of values \n    Output : T array reversed\n    O(N/2) Time complexity\n    '''\n    n = len(T)\n    for i in range(0, len(T)//2):\n        # Loop runs in the range [0, n-1] // 2 \n        # Swap T[i], T[n-i-1]\n        T[i], T[n-i-1] = T[n-i-1], T[i]\n    return T",
      "execution_count": 22,
      "outputs": []
    },
    {
      "metadata": {
        "trusted": true
      },
      "cell_type": "code",
      "source": "# Testing algorithm\na = [1,2,3,4,5]\nprint(reverse(a))",
      "execution_count": 12,
      "outputs": [
        {
          "output_type": "stream",
          "text": "[5, 4, 3, 2, 1]\n",
          "name": "stdout"
        }
      ]
    },
    {
      "metadata": {},
      "cell_type": "markdown",
      "source": "**Another algorithm to reverse a list**\n1. Generate (index, value) pairs\n2. New (index, value) = Old (n-index-1, value)\n3. Assign T[new_inde] = value"
    },
    {
      "metadata": {
        "trusted": true
      },
      "cell_type": "code",
      "source": "def reverse_new(T):\n    '''\n    Input : Input array T\n    Output : Reversed array T\n    O(N) Time Complexity\n    '''\n    pairs = []\n    n = len(T)\n    for i in enumerate(T):\n        pairs.append((n-i[0]-1, i[1]))\n    for pair in pairs:\n        T[pair[0]] = pair[1]\n    \n    return T",
      "execution_count": 21,
      "outputs": []
    },
    {
      "metadata": {
        "trusted": true
      },
      "cell_type": "code",
      "source": "print(reverse_new([2,5,126,6875,218]))",
      "execution_count": 20,
      "outputs": [
        {
          "output_type": "stream",
          "text": "[218, 6875, 126, 5, 2]\n",
          "name": "stdout"
        }
      ]
    },
    {
      "metadata": {
        "trusted": true
      },
      "cell_type": "code",
      "source": "",
      "execution_count": null,
      "outputs": []
    }
  ],
  "metadata": {
    "kernelspec": {
      "name": "python36",
      "display_name": "Python 3.6",
      "language": "python"
    },
    "language_info": {
      "mimetype": "text/x-python",
      "nbconvert_exporter": "python",
      "name": "python",
      "pygments_lexer": "ipython3",
      "version": "3.6.6",
      "file_extension": ".py",
      "codemirror_mode": {
        "version": 3,
        "name": "ipython"
      }
    }
  },
  "nbformat": 4,
  "nbformat_minor": 2
}