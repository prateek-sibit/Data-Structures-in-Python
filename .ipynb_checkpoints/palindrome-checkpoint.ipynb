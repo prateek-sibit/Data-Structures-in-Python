{
  "cells": [
    {
      "metadata": {
        "collapsed": true
      },
      "cell_type": "markdown",
      "source": "# Palindrome Problem\n\"A palindrome is a string that reads the same forward and backward\"\n\nFor example: radar or madam\n\nOur task is to design an optimal algorithm for checking whether a given string is palindrome or not!\n\nAlgorithm : \n1. Use array reversal algorithm\n2. if reversed = input return 1 else return 0"
    },
    {
      "metadata": {
        "trusted": true
      },
      "cell_type": "code",
      "source": "def reverse(T):\n    '''\n    Input : T array of values \n    Output : T array reversed\n    O(N/2) Time complexity\n    '''\n    T = list(T)\n    n = len(T)\n    for i in range(0, len(T)//2):\n        # Loop runs in the range [0, n-1] // 2 \n        # Swap T[i], T[n-i-1]\n        T[i], T[n-i-1] = T[n-i-1], T[i]\n    # Return the joined string\n    return ''.join(T)",
      "execution_count": 29,
      "outputs": []
    },
    {
      "metadata": {
        "trusted": true
      },
      "cell_type": "code",
      "source": "# We can also pass in a string to this function\nprint(reverse('hello'))",
      "execution_count": 28,
      "outputs": [
        {
          "output_type": "stream",
          "text": "olleh\n",
          "name": "stdout"
        }
      ]
    },
    {
      "metadata": {
        "trusted": true
      },
      "cell_type": "code",
      "source": "def isPalindrome(T):\n    '''\n    Input : T string \n    Output : True if T is palindrome else False\n    '''\n    if T == reverse(T):\n        return True\n    else:\n        return False",
      "execution_count": 30,
      "outputs": []
    },
    {
      "metadata": {
        "trusted": true
      },
      "cell_type": "code",
      "source": "print(palin)",
      "execution_count": null,
      "outputs": []
    }
  ],
  "metadata": {
    "kernelspec": {
      "name": "python36",
      "display_name": "Python 3.6",
      "language": "python"
    },
    "language_info": {
      "mimetype": "text/x-python",
      "nbconvert_exporter": "python",
      "name": "python",
      "pygments_lexer": "ipython3",
      "version": "3.6.6",
      "file_extension": ".py",
      "codemirror_mode": {
        "version": 3,
        "name": "ipython"
      }
    }
  },
  "nbformat": 4,
  "nbformat_minor": 2
}