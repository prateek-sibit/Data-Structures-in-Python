{
  "cells": [
    {
      "metadata": {
        "collapsed": true
      },
      "cell_type": "markdown",
      "source": "# Bubble Sort Implementation\nImplementing bubble sort in python"
    },
    {
      "metadata": {
        "trusted": true
      },
      "cell_type": "code",
      "source": "def bubble_sort(arr):\n    '''\n    Algorithm : \n    1. for i in range [0, len(arr)-1]\n    2. for j in range [0, n-i-1] -> n-i-1 excludes the ith index\n    3. if arr[j] > arr[j+1] -> swap these values if sorting in increasing order\n    '''\n    n = len(arr)\n    for i in range(0, n):\n        for j in range(0, n-i-1):\n            if arr[j] > arr[j+1]:\n                # Swap \n                arr[j], arr[j+1] = arr[j+1], arr[j]\n    return arr",
      "execution_count": 1,
      "outputs": []
    },
    {
      "metadata": {
        "trusted": true
      },
      "cell_type": "code",
      "source": "# Testing\na = bubble_sort([2,5,6,1,10,9])\nprint(a)",
      "execution_count": 8,
      "outputs": [
        {
          "output_type": "stream",
          "text": "[2, 5, 1, 6, 9, 10]\n",
          "name": "stdout"
        }
      ]
    },
    {
      "metadata": {
        "trusted": true
      },
      "cell_type": "code",
      "source": "",
      "execution_count": null,
      "outputs": []
    }
  ],
  "metadata": {
    "kernelspec": {
      "name": "python36",
      "display_name": "Python 3.6",
      "language": "python"
    },
    "language_info": {
      "mimetype": "text/x-python",
      "nbconvert_exporter": "python",
      "name": "python",
      "pygments_lexer": "ipython3",
      "version": "3.6.6",
      "file_extension": ".py",
      "codemirror_mode": {
        "version": 3,
        "name": "ipython"
      }
    }
  },
  "nbformat": 4,
  "nbformat_minor": 2
}