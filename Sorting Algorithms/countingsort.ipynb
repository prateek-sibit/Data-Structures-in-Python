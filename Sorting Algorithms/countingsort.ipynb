{
  "cells": [
    {
      "metadata": {
        "collapsed": true
      },
      "cell_type": "markdown",
      "source": "# Counting Sort Implementation\nImplementing counting sort in python. Algorithm performs efficiently if the number of items in the array is approximately equal to the maximum item in the array"
    },
    {
      "metadata": {
        "trusted": true
      },
      "cell_type": "code",
      "source": "# O(N + K) Time Complexity\ndef counting_sort(arr):\n    '''\n    Input : Array \"arr\"\n    Output : sorted array \"arr\"\n    This function makes use of python indexing to make things easier\n    '''\n    # Allocate counter array \"k\"\n    countArray = [0] * (max(arr)-min(arr)+1)\n    # O(N) Time Complexity\n    for i in range(0, len(arr)):\n        # For element in arr, change countArray[element]+=1\n        countArray[arr[i]-1]+=1\n    # For every element in countArray, each item is present [index] times in the original array\n    sorted_arr = []\n    for index, value in enumerate(countArray):\n        sorted_arr += [index+1] * value\n        \n    return sorted_arr",
      "execution_count": 33,
      "outputs": []
    },
    {
      "metadata": {
        "trusted": true
      },
      "cell_type": "code",
      "source": "# Testing\narr = [1,4,1,7,1,7,10,3]\nprint(counting_sort(arr))",
      "execution_count": 49,
      "outputs": [
        {
          "output_type": "stream",
          "text": "[1, 1, 1, 3, 4, 7, 7, 10]\n",
          "name": "stdout"
        }
      ]
    }
  ],
  "metadata": {
    "kernelspec": {
      "name": "python36",
      "display_name": "Python 3.6",
      "language": "python"
    },
    "language_info": {
      "mimetype": "text/x-python",
      "nbconvert_exporter": "python",
      "name": "python",
      "pygments_lexer": "ipython3",
      "version": "3.6.6",
      "file_extension": ".py",
      "codemirror_mode": {
        "version": 3,
        "name": "ipython"
      }
    }
  },
  "nbformat": 4,
  "nbformat_minor": 2
}