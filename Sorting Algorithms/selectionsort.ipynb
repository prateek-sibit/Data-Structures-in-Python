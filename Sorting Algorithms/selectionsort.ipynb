{
  "cells": [
    {
      "metadata": {
        "collapsed": true
      },
      "cell_type": "markdown",
      "source": "# Selection Sort Implementation\nImplementing selection sort in python"
    },
    {
      "metadata": {
        "trusted": true
      },
      "cell_type": "code",
      "source": "# O(N) Time Complexity\ndef selection_sort(arr):\n    '''\n    Algorithm :\n    1. Select ith element as minimum\n    2. Iterate over to the right of ith element -> find index of minimum element (j)\n    3. Swap ith -> jth element\n    '''\n    n = len(arr)\n    for i in range(0, n):\n        min_idx = i\n        for j in range(i+1, n):\n            if arr[min_idx] > arr[j]:\n                min_idx = j\n        # Swap arr[i] <-> arr[j]\n        arr[i], arr[min_idx] = arr[min_idx], arr[i]\n    return arr",
      "execution_count": 7,
      "outputs": []
    },
    {
      "metadata": {},
      "cell_type": "markdown",
      "source": "#### Testing"
    },
    {
      "metadata": {
        "trusted": true
      },
      "cell_type": "code",
      "source": "a = [12,11,10,5,1,2,4,6]\nprint(selection_sort(a))",
      "execution_count": 8,
      "outputs": [
        {
          "output_type": "stream",
          "text": "[1, 2, 4, 5, 6, 10, 11, 12]\n",
          "name": "stdout"
        }
      ]
    },
    {
      "metadata": {
        "trusted": true
      },
      "cell_type": "code",
      "source": "# Performance Testing\nimport time\nimport numpy as np\n\nrand_arr = np.random.randint(low=-5, high=500, size=(1, 15000))\nrand_arr = list(rand_arr[0])\nstart = time.time()\nsorted_rand_arr = selection_sort(rand_arr)\nprint(time.time() - start)",
      "execution_count": 29,
      "outputs": [
        {
          "output_type": "stream",
          "text": "14.906256675720215\n",
          "name": "stdout"
        }
      ]
    },
    {
      "metadata": {
        "trusted": true
      },
      "cell_type": "code",
      "source": "# Function to return the average running time for a sorting algorithm with given size of array\ndef average_performance(size, test_cases=5):\n    running_times = []\n    start_test = time.time()\n    for i in range(test_cases):\n        rand_arr = list(np.random.randint(low=-500, high=500, size=(1, size))[0])\n        start = time.time()\n        sorted_rand_arr = selection_sort(rand_arr)\n        running_times.append(time.time() - start)\n    return np.mean(running_times), time.time()-start_test",
      "execution_count": 33,
      "outputs": []
    },
    {
      "metadata": {
        "trusted": true
      },
      "cell_type": "code",
      "source": "performance, test_time = average_performance(size=15000, test_cases=5)",
      "execution_count": 34,
      "outputs": []
    },
    {
      "metadata": {
        "trusted": true
      },
      "cell_type": "code",
      "source": "print('Average Performance Time : {}s , Testing Time : {}s'.format(performance, test_time))",
      "execution_count": 36,
      "outputs": [
        {
          "output_type": "stream",
          "text": "Average Performance Time : 15.221428871154785s , Testing Time : 76.1187036037445s\n",
          "name": "stdout"
        }
      ]
    }
  ],
  "metadata": {
    "kernelspec": {
      "name": "python36",
      "display_name": "Python 3.6",
      "language": "python"
    },
    "language_info": {
      "mimetype": "text/x-python",
      "nbconvert_exporter": "python",
      "name": "python",
      "pygments_lexer": "ipython3",
      "version": "3.6.6",
      "file_extension": ".py",
      "codemirror_mode": {
        "version": 3,
        "name": "ipython"
      }
    }
  },
  "nbformat": 4,
  "nbformat_minor": 2
}