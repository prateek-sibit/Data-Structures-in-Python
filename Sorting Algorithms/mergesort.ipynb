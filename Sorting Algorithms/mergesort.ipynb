{
  "cells": [
    {
      "metadata": {},
      "cell_type": "markdown",
      "source": "# Mergesort Implementation\nImplementing mergesort in Python\nDivide and conquer algorithm invented by Jon Von Neumann in 1945\nMerge sort has Linearithmic O(Nlog(N)) Time Complexity"
    },
    {
      "metadata": {},
      "cell_type": "markdown",
      "source": "#### We first tackle the sub-problem of merging two sorted arrays into a single sorted one\n"
    },
    {
      "metadata": {
        "trusted": true
      },
      "cell_type": "code",
      "source": "def merge_sorted(array1, array2):\n    '''\n    Algorithm : \n    1. take n1, n2 as the lengths of array1, array2\n    2. take an iterable i=0 to traverse indices of supposed merged array\n    3. while i<n1 and \n    '''\n    n1 = len(array1)\n    n2 = len(array2)\n    i = 0 # counter to traverse array1\n    j = 0 # counter to traverse array2\n    \n    merged = []\n    while i<n1 and j<n2: # loop runs till both subarrays have not been traversed\n        if array1[i] < array2[j]:\n            # array1[i] is the smaller element\n            merged.append(array1[i])\n            i+=1\n        elif array1[i] > array2[j]:\n            # array2[j] is the smaller element\n            merged.append(array2[j])\n            j+=1\n            \n     # Append all remaining elements\n    while i<n1:\n        merged.append(array1[i])\n        i+=1\n    while j<n2:\n        merged.append(array2[j])\n        j+=1\n    \n    return merged",
      "execution_count": 14,
      "outputs": []
    },
    {
      "metadata": {
        "trusted": true
      },
      "cell_type": "code",
      "source": "print(merge_sorted([1,2,4], [3,5]))\nprint(merge_sorted([1,2,4], [0,3,9]))",
      "execution_count": 17,
      "outputs": [
        {
          "output_type": "stream",
          "text": "[1, 2, 3, 4, 5]\n[0, 1, 2, 3, 4, 9]\n",
          "name": "stdout"
        }
      ]
    },
    {
      "metadata": {},
      "cell_type": "markdown",
      "source": "### Real Implementation is given Below\nWe require two methods\n1. mergeSort that is the main method \n2. merge method that merges two subarrays arrays"
    },
    {
      "metadata": {
        "trusted": true
      },
      "cell_type": "code",
      "source": "def mergesort(arr, low, high):\n    '''\n    Main Function for calling the mergesort method\n    '''\n    # Input array has 1 element or None\n    if low >= high:\n        return\n    \n    # Find the index of the middle element\n    middle = (low + high) // 2\n    # Run mergesort recursively on two partitions of the array\n    mergesort(arr, low, middle)\n    mergesort(arr, middle+1, high)\n    # Merge two subarrays into a sorted one\n    merge(arr, low, middle, high)\n    \n    return arr",
      "execution_count": 23,
      "outputs": []
    },
    {
      "metadata": {
        "trusted": true
      },
      "cell_type": "code",
      "source": "def merge(arr, low, middle, high):\n    \n    # Store original array values in an auxillary array\n    temp = [0] * len(arr)\n    for i in range(0, len(arr)):\n        temp[i] = arr[i]\n    # This will be referenced later\n    k = low # index to keep track of items currently merged\n    i = low # index to traverse firt subpart of array\n    j = middle+1 # index to traverse second subpart of array\n    \n    # i, j reference to the left, right partition arrays\n    # Two subarrays to merge are -> temp[0:middle], temp[middle+1:high]\n    while i <= middle and j <= high:\n        if temp[i] <= temp[j]:\n            arr[k] = temp[i]\n            i+=1\n        elif temp[i] > temp[j]:\n            arr[k] = temp[j]\n            j+=1\n        k+=1\n    \n    # Now Add all remaining elements\n    while i <= middle:\n        arr[k] = temp[i]\n        i+=1\n        k+=1\n    while j <= high:\n        arr[k] = temp[j]\n        j+=1\n        k+=1    ",
      "execution_count": 37,
      "outputs": []
    },
    {
      "metadata": {},
      "cell_type": "markdown",
      "source": "### Testing"
    },
    {
      "metadata": {
        "trusted": true
      },
      "cell_type": "code",
      "source": "import numpy as np\n\nrand_arr = list(set(np.random.randint(low=-500, high=500, size=(1,500))[0]))\na = [12,19,5,1,2,3,4,88,96,-4,0]\nprint(mergesort(a, 0, len(a)-1))",
      "execution_count": 41,
      "outputs": [
        {
          "output_type": "stream",
          "text": "[-4, 0, 1, 2, 3, 4, 5, 12, 19, 88, 96]\n",
          "name": "stdout"
        }
      ]
    },
    {
      "metadata": {
        "trusted": true
      },
      "cell_type": "code",
      "source": "",
      "execution_count": null,
      "outputs": []
    }
  ],
  "metadata": {
    "kernelspec": {
      "name": "python36",
      "display_name": "Python 3.6",
      "language": "python"
    },
    "language_info": {
      "mimetype": "text/x-python",
      "nbconvert_exporter": "python",
      "name": "python",
      "pygments_lexer": "ipython3",
      "version": "3.6.6",
      "file_extension": ".py",
      "codemirror_mode": {
        "version": 3,
        "name": "ipython"
      }
    }
  },
  "nbformat": 4,
  "nbformat_minor": 2
}