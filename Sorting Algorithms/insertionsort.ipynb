{
  "cells": [
    {
      "metadata": {
        "collapsed": true
      },
      "cell_type": "markdown",
      "source": "# Insertion Sort Implementation\nImplementing insertion sort in python"
    },
    {
      "metadata": {
        "trusted": true
      },
      "cell_type": "code",
      "source": "# O(N^2) Time Complexity\ndef insertion_sort(arr):\n    '''\n    Algorithm  :\n    1. take n=len(arr)\n    2. for i in range(1, arr):\n    2. j = i\n    3. while j>0 and arr[j-1] > arr[j]\n    4. swap(arr[j-1], arr[j])\n    5. j=j-1\n    '''\n    n = len(arr)\n    for i in range(1, n):\n        j = i\n        while j>0 and arr[j-1] > arr[j]:\n            # swap arr[j-1], arr[j]\n            arr[j-1], arr[j] = arr[j], arr[j-1]\n            j = j-1\n    return arr",
      "execution_count": 1,
      "outputs": []
    },
    {
      "metadata": {
        "trusted": true
      },
      "cell_type": "code",
      "source": "# Testing\nrand_arr = [58,-14,9,8,1,0,4,5,6,71,82]\nsorted_rand_arr = insertion_sort(rand_arr)\nprint(sorted_rand_arr)",
      "execution_count": 5,
      "outputs": [
        {
          "output_type": "stream",
          "text": "[-14, 0, 1, 4, 5, 6, 8, 9, 58, 71, 82]\n",
          "name": "stdout"
        }
      ]
    },
    {
      "metadata": {
        "trusted": true
      },
      "cell_type": "code",
      "source": "import time\n\nrnd = list(set(np.random.randint(low=-500, high=500, size=(1, 1500000))[0]))\nt0 = time.time()\nsorted_rnd = insertion_sort(rnd)\nprint('Operation Time : ', time.time() - t0)",
      "execution_count": 21,
      "outputs": [
        {
          "output_type": "stream",
          "text": "Operation Time :  0.14716196060180664\n",
          "name": "stdout"
        }
      ]
    }
  ],
  "metadata": {
    "kernelspec": {
      "name": "python36",
      "display_name": "Python 3.6",
      "language": "python"
    },
    "language_info": {
      "mimetype": "text/x-python",
      "nbconvert_exporter": "python",
      "name": "python",
      "pygments_lexer": "ipython3",
      "version": "3.6.6",
      "file_extension": ".py",
      "codemirror_mode": {
        "version": 3,
        "name": "ipython"
      }
    }
  },
  "nbformat": 4,
  "nbformat_minor": 2
}