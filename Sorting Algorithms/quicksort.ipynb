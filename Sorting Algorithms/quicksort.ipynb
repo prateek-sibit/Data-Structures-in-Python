{
  "cells": [
    {
      "metadata": {
        "collapsed": true
      },
      "cell_type": "markdown",
      "source": "# Quicksort Implementation \nImplementing quicksort in Python\n\n**Algorithm :**\nQuicksort works by choosing a pivot element and partitioning the array in such a way such that all elements to the left of the pivot are smaller than pivot and elements to the right of the pivot are greater than the pivot"
    },
    {
      "metadata": {
        "trusted": true
      },
      "cell_type": "code",
      "source": "# Defining helper functions\ndef swap(array, index1, index2):\n    '''\n    Input : \n    array : array to swap elements in\n    index1 : index of first element to swap\n    index2 : index of second element to swap\n    '''\n    array[index1], array[index2] = array[index2], array[index1]",
      "execution_count": 1,
      "outputs": []
    },
    {
      "metadata": {
        "trusted": true
      },
      "cell_type": "code",
      "source": "def quicksort(array, low, high):\n    \n    if low >= high:\n        # Array is empty or has single element\n        return\n    \n    # Main Quicksort\n    pivot = partition(array, low, high)\n    quicksort(array, low, pivot-1)\n    quicksort(array, pivot+1, high)",
      "execution_count": 2,
      "outputs": []
    },
    {
      "metadata": {
        "trusted": true
      },
      "cell_type": "code",
      "source": "def partition(array, low, high):\n    # Choosing the middle element as the pivot\n    pivot = (low + high) // 2\n    swap(array, pivot, high)\n    i = low\n    for j in range(low, high):\n        if array[j] <= array[high]:\n            # element at index j is less than pivot element\n            swap(array, i, j)\n            i += 1\n    swap(array, i, high)\n    # Return the index of the pivot element \n    return i",
      "execution_count": 7,
      "outputs": []
    },
    {
      "metadata": {},
      "cell_type": "markdown",
      "source": "### Testing"
    },
    {
      "metadata": {
        "trusted": true
      },
      "cell_type": "code",
      "source": "import numpy as np\nimport time\n\nrand_arr = list(set(np.random.randint(low=-500, high=500, size=(1, 50))[0]))\nt0 = time.time()\nquicksort(rand_arr, 0, len(rand_arr)-1)\nprint('Time : ', time.time()-t0)\nprint(rand_arr)",
      "execution_count": 11,
      "outputs": [
        {
          "output_type": "stream",
          "text": "Time :  0.0006084442138671875\n[-500, -436, -431, -427, -415, -372, -368, -352, -345, -309, -305, -269, -260, -258, -256, -248, -213, -134, -129, -96, -79, -72, -64, -24, 7, 8, 15, 26, 30, 32, 43, 53, 76, 83, 116, 135, 136, 148, 157, 172, 215, 225, 245, 249, 273, 287, 324, 344, 440, 442]\n",
          "name": "stdout"
        }
      ]
    },
    {
      "metadata": {
        "trusted": true
      },
      "cell_type": "code",
      "source": "",
      "execution_count": null,
      "outputs": []
    }
  ],
  "metadata": {
    "kernelspec": {
      "name": "python36",
      "display_name": "Python 3.6",
      "language": "python"
    },
    "language_info": {
      "mimetype": "text/x-python",
      "nbconvert_exporter": "python",
      "name": "python",
      "pygments_lexer": "ipython3",
      "version": "3.6.6",
      "file_extension": ".py",
      "codemirror_mode": {
        "version": 3,
        "name": "ipython"
      }
    }
  },
  "nbformat": 4,
  "nbformat_minor": 2
}