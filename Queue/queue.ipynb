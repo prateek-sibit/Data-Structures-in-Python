{
  "cells": [
    {
      "metadata": {
        "collapsed": true
      },
      "cell_type": "markdown",
      "source": "# Queue Implementation using Arrays\nImplementing Queue ADT using arrays in python "
    },
    {
      "metadata": {
        "trusted": true
      },
      "cell_type": "code",
      "source": "# FIFO : First In -> First Out\nclass Queue():\n    \n    # Constructor method for class\n    def __init__(self):\n        self.queue = []\n    \n    # Checking if queue is empty or not\n    def isEmpty(self):\n        return self.queue == []\n    \n    # Inserting data into queue\n    def enqueue(self, data):\n        self.queue.append(data)\n    \n    # Dequeue : Removing first item from queue\n    def dequeue(self):\n        data = self.queue[0]\n        del self.queue[0]\n        return data\n    \n    # Peak method to return the first most item in queue\n    def peak(self):\n        return self.queue[0]\n    \n    # Returning size of the queue\n    def size(self):\n        return len(self.queue)\n    \n    # Viewing the queue\n    def view(self):\n        print(self.queue)",
      "execution_count": 2,
      "outputs": []
    },
    {
      "metadata": {},
      "cell_type": "markdown",
      "source": "#### Testing"
    },
    {
      "metadata": {
        "trusted": true
      },
      "cell_type": "code",
      "source": "queue = Queue()\nqueue.enqueue(5)\nqueue.enqueue(6)\nqueue.enqueue(10)\nqueue.enqueue(15)\nqueue.enqueue(98)\nqueue.view()\nprint('First : ', queue.peak())\nprint('Size : ', queue.size())\nprint('Dequeued : ', queue.dequeue())\nprint('Size : ', queue.size())\nqueue.view()",
      "execution_count": 5,
      "outputs": [
        {
          "output_type": "stream",
          "text": "[5, 6, 10, 15, 98]\nFirst :  5\nSize :  5\nDequeued :  5\nSize :  4\n[6, 10, 15, 98]\n",
          "name": "stdout"
        }
      ]
    },
    {
      "metadata": {
        "trusted": true
      },
      "cell_type": "code",
      "source": "",
      "execution_count": null,
      "outputs": []
    }
  ],
  "metadata": {
    "kernelspec": {
      "name": "python36",
      "display_name": "Python 3.6",
      "language": "python"
    },
    "language_info": {
      "mimetype": "text/x-python",
      "nbconvert_exporter": "python",
      "name": "python",
      "pygments_lexer": "ipython3",
      "version": "3.6.6",
      "file_extension": ".py",
      "codemirror_mode": {
        "version": 3,
        "name": "ipython"
      }
    }
  },
  "nbformat": 4,
  "nbformat_minor": 2
}