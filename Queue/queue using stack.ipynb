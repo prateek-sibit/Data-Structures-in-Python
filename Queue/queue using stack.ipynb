{
  "cells": [
    {
      "metadata": {
        "collapsed": true
      },
      "cell_type": "markdown",
      "source": "# Queue with stack problem\nThe aim is to design a queue abstract data type with the help of stacks.\nAlgorithm : \n1. Queue works on a **FIFO** structure whereas stack uses a **LIFO** structure\n2. Use two stack for this problem -> one for enqueue, one for dequeue\n3. Pop items from enqueueStack and push them onto dequeuStack"
    },
    {
      "metadata": {
        "trusted": true
      },
      "cell_type": "code",
      "source": "class Stack():\n    \n    # Constructor \n    def __init__(self, max_size=10):\n        self.stack = [] # Stack array\n        self.max_size = max_size # Stack size limit\n        self.size = 0 # initial stack size is 0\n    \n    # push\n    def push(self, item):\n        if self.size < self.max_size: # since indices range from [0, n-1]\n            self.stack.append(item)\n            self.size += 1\n        else:\n            print('Stack is Full!')\n            \n    # pop\n    def pop(self):\n        data = self.stack.pop()\n        self.size -= 1\n        print('Popped : ', data)\n    \n    # peak\n    def peak(self):\n        return self.stack[-1]\n    \n    # print\n    def __str__(self):\n        return str(self.stack)",
      "execution_count": 11,
      "outputs": []
    },
    {
      "metadata": {
        "trusted": true
      },
      "cell_type": "code",
      "source": "# Testing Stack\ns = Stack(max_size=5)\ns.push(1)\ns.push(2)\ns.push(5)\ns.push(12)\ns.push(56)\nprint(s)\ns.pop()\nprint(s)\ns.push(86)\ns.push(52)",
      "execution_count": 14,
      "outputs": [
        {
          "output_type": "stream",
          "text": "[1, 2, 5, 12, 56]\nPopped :  56\n[1, 2, 5, 12]\nStack is Full!\n",
          "name": "stdout"
        }
      ]
    },
    {
      "metadata": {
        "trusted": true
      },
      "cell_type": "code",
      "source": "class QueueStack():\n    \n    '''\n    Implementation of Queue using Stacks\n    '''\n    MAX_SIZE = 10\n    \n    def __init__(self):\n        # use one stack for enqueue operation\n        self.enqueue_stack = []\n        # use one stack for dequeue operation\n        self.dequeue_stack = []\n    \n    # enqueue\n    def enqueue(self, item):\n        self.enqueue_stack.append(item)\n\n    # dequeue\n    def dequeue(self):\n        # there maybe no items in the stack\n        if len(self.enqueue_stack)==0 and len(self.dequeue_stack)==0:\n            raise Exception('Stacks are empty!')\n        \n        # if the dequeue_stack is empty we have to add all items O(N) time complexity\n        if len(self.dequeue_stack) == 0:\n            \n            while len(self.enqueue_stack) != 0:\n                # keep popping items from enqueue_stack and push to dequeue_stack\n                self.dequeue_stack.append(self.enqueue_stack.pop())\n        \n        # otherwise just pop an item -> O(1) Time\n        return self.dequeue_stack.pop()\n    \n    # enqueueStack print\n    def print_enqueueStack(self):\n        print(str(self.enqueue_stack))\n        \n    # dequeueStack print\n    def print_dequeueStack(self):\n        print(str(self.dequeue_stack))",
      "execution_count": 36,
      "outputs": []
    },
    {
      "metadata": {
        "trusted": true
      },
      "cell_type": "code",
      "source": "qs = QueueStack()\nqs.enqueue(12)\nqs.enqueue(6)\nqs.enqueue(18)\nqs.enqueue(62)\nqs.enqueue(121)\nqs.print_enqueueStack()\nqs.print_dequeueStack()\nqs.dequeue()",
      "execution_count": 44,
      "outputs": [
        {
          "output_type": "stream",
          "text": "[12, 6, 18, 62, 121]\n[]\n",
          "name": "stdout"
        },
        {
          "output_type": "execute_result",
          "execution_count": 44,
          "data": {
            "text/plain": "12"
          },
          "metadata": {}
        }
      ]
    },
    {
      "metadata": {
        "trusted": true
      },
      "cell_type": "code",
      "source": "qs.dequeue()",
      "execution_count": 45,
      "outputs": [
        {
          "output_type": "execute_result",
          "execution_count": 45,
          "data": {
            "text/plain": "6"
          },
          "metadata": {}
        }
      ]
    }
  ],
  "metadata": {
    "kernelspec": {
      "name": "python36",
      "display_name": "Python 3.6",
      "language": "python"
    },
    "language_info": {
      "mimetype": "text/x-python",
      "nbconvert_exporter": "python",
      "name": "python",
      "pygments_lexer": "ipython3",
      "version": "3.6.6",
      "file_extension": ".py",
      "codemirror_mode": {
        "version": 3,
        "name": "ipython"
      }
    }
  },
  "nbformat": 4,
  "nbformat_minor": 2
}